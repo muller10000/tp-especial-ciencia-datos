{
 "cells": [
  {
   "cell_type": "markdown",
   "metadata": {},
   "source": [
    "TP ESPECIAL FUNDAMENTOS DE LA CIENCIA DE DATOS 2024 \n",
    "\n",
    "DATASET: CALIDAD DE AGUA DEL RÍO DE LA PLATA - 2022\n",
    "\n",
    "INTEGRANTES:\n",
    "Abril Valentina Valentina Juarez, Matias Müller Gonzales y Julián Elias Rivero"
   ]
  },
  {
   "cell_type": "code",
   "execution_count": 3,
   "metadata": {},
   "outputs": [
    {
     "name": "stdout",
     "output_type": "stream",
     "text": [
      "Requirement already satisfied: pandas in c:\\users\\matias\\desktop\\tp especial - ciencia de datos\\practicoespecialvenv\\lib\\site-packages (2.2.3)\n",
      "Requirement already satisfied: numpy>=1.26.0 in c:\\users\\matias\\desktop\\tp especial - ciencia de datos\\practicoespecialvenv\\lib\\site-packages (from pandas) (2.1.1)\n",
      "Requirement already satisfied: python-dateutil>=2.8.2 in c:\\users\\matias\\desktop\\tp especial - ciencia de datos\\practicoespecialvenv\\lib\\site-packages (from pandas) (2.9.0.post0)\n",
      "Requirement already satisfied: pytz>=2020.1 in c:\\users\\matias\\desktop\\tp especial - ciencia de datos\\practicoespecialvenv\\lib\\site-packages (from pandas) (2024.2)\n",
      "Requirement already satisfied: tzdata>=2022.7 in c:\\users\\matias\\desktop\\tp especial - ciencia de datos\\practicoespecialvenv\\lib\\site-packages (from pandas) (2024.1)\n",
      "Requirement already satisfied: six>=1.5 in c:\\users\\matias\\desktop\\tp especial - ciencia de datos\\practicoespecialvenv\\lib\\site-packages (from python-dateutil>=2.8.2->pandas) (1.16.0)\n",
      "Note: you may need to restart the kernel to use updated packages.\n"
     ]
    },
    {
     "name": "stderr",
     "output_type": "stream",
     "text": [
      "\n",
      "[notice] A new release of pip is available: 24.0 -> 24.3.1\n",
      "[notice] To update, run: python.exe -m pip install --upgrade pip\n"
     ]
    },
    {
     "name": "stdout",
     "output_type": "stream",
     "text": [
      "Requirement already satisfied: matplotlib in c:\\users\\matias\\desktop\\tp especial - ciencia de datos\\practicoespecialvenv\\lib\\site-packages (3.9.2)\n",
      "Requirement already satisfied: contourpy>=1.0.1 in c:\\users\\matias\\desktop\\tp especial - ciencia de datos\\practicoespecialvenv\\lib\\site-packages (from matplotlib) (1.3.1)\n",
      "Requirement already satisfied: cycler>=0.10 in c:\\users\\matias\\desktop\\tp especial - ciencia de datos\\practicoespecialvenv\\lib\\site-packages (from matplotlib) (0.12.1)\n",
      "Requirement already satisfied: fonttools>=4.22.0 in c:\\users\\matias\\desktop\\tp especial - ciencia de datos\\practicoespecialvenv\\lib\\site-packages (from matplotlib) (4.54.1)\n",
      "Requirement already satisfied: kiwisolver>=1.3.1 in c:\\users\\matias\\desktop\\tp especial - ciencia de datos\\practicoespecialvenv\\lib\\site-packages (from matplotlib) (1.4.7)\n",
      "Requirement already satisfied: numpy>=1.23 in c:\\users\\matias\\desktop\\tp especial - ciencia de datos\\practicoespecialvenv\\lib\\site-packages (from matplotlib) (2.1.1)\n",
      "Requirement already satisfied: packaging>=20.0 in c:\\users\\matias\\desktop\\tp especial - ciencia de datos\\practicoespecialvenv\\lib\\site-packages (from matplotlib) (24.1)\n",
      "Requirement already satisfied: pillow>=8 in c:\\users\\matias\\desktop\\tp especial - ciencia de datos\\practicoespecialvenv\\lib\\site-packages (from matplotlib) (11.0.0)\n",
      "Requirement already satisfied: pyparsing>=2.3.1 in c:\\users\\matias\\desktop\\tp especial - ciencia de datos\\practicoespecialvenv\\lib\\site-packages (from matplotlib) (3.2.0)\n",
      "Requirement already satisfied: python-dateutil>=2.7 in c:\\users\\matias\\desktop\\tp especial - ciencia de datos\\practicoespecialvenv\\lib\\site-packages (from matplotlib) (2.9.0.post0)\n",
      "Requirement already satisfied: six>=1.5 in c:\\users\\matias\\desktop\\tp especial - ciencia de datos\\practicoespecialvenv\\lib\\site-packages (from python-dateutil>=2.7->matplotlib) (1.16.0)\n",
      "Note: you may need to restart the kernel to use updated packages.\n"
     ]
    },
    {
     "name": "stderr",
     "output_type": "stream",
     "text": [
      "\n",
      "[notice] A new release of pip is available: 24.0 -> 24.3.1\n",
      "[notice] To update, run: python.exe -m pip install --upgrade pip\n"
     ]
    },
    {
     "name": "stdout",
     "output_type": "stream",
     "text": [
      "Requirement already satisfied: numpy in c:\\users\\matias\\desktop\\tp especial - ciencia de datos\\practicoespecialvenv\\lib\\site-packages (2.1.1)\n",
      "Note: you may need to restart the kernel to use updated packages.\n"
     ]
    },
    {
     "name": "stderr",
     "output_type": "stream",
     "text": [
      "\n",
      "[notice] A new release of pip is available: 24.0 -> 24.3.1\n",
      "[notice] To update, run: python.exe -m pip install --upgrade pip\n"
     ]
    },
    {
     "name": "stdout",
     "output_type": "stream",
     "text": [
      "Note: you may need to restart the kernel to use updated packages.Requirement already satisfied: fancyimpute in c:\\users\\matias\\desktop\\tp especial - ciencia de datos\\practicoespecialvenv\\lib\\site-packages (0.7.0)\n",
      "Requirement already satisfied: knnimpute>=0.1.0 in c:\\users\\matias\\desktop\\tp especial - ciencia de datos\\practicoespecialvenv\\lib\\site-packages (from fancyimpute) (0.1.0)\n",
      "Requirement already satisfied: scikit-learn>=0.24.2 in c:\\users\\matias\\desktop\\tp especial - ciencia de datos\\practicoespecialvenv\\lib\\site-packages (from fancyimpute) (1.5.2)\n",
      "Requirement already satisfied: cvxpy in c:\\users\\matias\\desktop\\tp especial - ciencia de datos\\practicoespecialvenv\\lib\\site-packages (from fancyimpute) (1.6.0)\n",
      "Requirement already satisfied: cvxopt in c:\\users\\matias\\desktop\\tp especial - ciencia de datos\\practicoespecialvenv\\lib\\site-packages (from fancyimpute) (1.3.2)\n",
      "Requirement already satisfied: pytest in c:\\users\\matias\\desktop\\tp especial - ciencia de datos\\practicoespecialvenv\\lib\\site-packages (from fancyimpute) (8.3.3)\n",
      "Requirement already satisfied: nose in c:\\users\\matias\\desktop\\tp especial - ciencia de datos\\practicoespecialvenv\\lib\\site-packages (from fancyimpute) (1.3.7)\n",
      "Requirement already satisfied: six in c:\\users\\matias\\desktop\\tp especial - ciencia de datos\\practicoespecialvenv\\lib\\site-packages (from knnimpute>=0.1.0->fancyimpute) (1.16.0)\n",
      "Requirement already satisfied: numpy>=1.10 in c:\\users\\matias\\desktop\\tp especial - ciencia de datos\\practicoespecialvenv\\lib\\site-packages (from knnimpute>=0.1.0->fancyimpute) (2.1.1)\n",
      "Requirement already satisfied: scipy>=1.6.0 in c:\\users\\matias\\desktop\\tp especial - ciencia de datos\\practicoespecialvenv\\lib\\site-packages (from scikit-learn>=0.24.2->fancyimpute) (1.14.1)\n",
      "Requirement already satisfied: joblib>=1.2.0 in c:\\users\\matias\\desktop\\tp especial - ciencia de datos\\practicoespecialvenv\\lib\\site-packages (from scikit-learn>=0.24.2->fancyimpute) (1.4.2)\n",
      "Requirement already satisfied: threadpoolctl>=3.1.0 in c:\\users\\matias\\desktop\\tp especial - ciencia de datos\\practicoespecialvenv\\lib\\site-packages (from scikit-learn>=0.24.2->fancyimpute) (3.5.0)\n",
      "Requirement already satisfied: osqp>=0.6.2 in c:\\users\\matias\\desktop\\tp especial - ciencia de datos\\practicoespecialvenv\\lib\\site-packages (from cvxpy->fancyimpute) (0.6.7.post3)\n",
      "Requirement already satisfied: clarabel>=0.5.0 in c:\\users\\matias\\desktop\\tp especial - ciencia de datos\\practicoespecialvenv\\lib\\site-packages (from cvxpy->fancyimpute) (0.9.0)\n",
      "Requirement already satisfied: scs>=3.2.4.post1 in c:\\users\\matias\\desktop\\tp especial - ciencia de datos\\practicoespecialvenv\\lib\\site-packages (from cvxpy->fancyimpute) (3.2.7)\n",
      "Requirement already satisfied: iniconfig in c:\\users\\matias\\desktop\\tp especial - ciencia de datos\\practicoespecialvenv\\lib\\site-packages (from pytest->fancyimpute) (2.0.0)\n",
      "Requirement already satisfied: packaging in c:\\users\\matias\\desktop\\tp especial - ciencia de datos\\practicoespecialvenv\\lib\\site-packages (from pytest->fancyimpute) (24.1)\n",
      "Requirement already satisfied: pluggy<2,>=1.5 in c:\\users\\matias\\desktop\\tp especial - ciencia de datos\\practicoespecialvenv\\lib\\site-packages (from pytest->fancyimpute) (1.5.0)\n",
      "Requirement already satisfied: colorama in c:\\users\\matias\\desktop\\tp especial - ciencia de datos\\practicoespecialvenv\\lib\\site-packages (from pytest->fancyimpute) (0.4.6)\n",
      "Requirement already satisfied: qdldl in c:\\users\\matias\\desktop\\tp especial - ciencia de datos\\practicoespecialvenv\\lib\\site-packages (from osqp>=0.6.2->cvxpy->fancyimpute) (0.1.7.post4)\n",
      "\n"
     ]
    },
    {
     "name": "stderr",
     "output_type": "stream",
     "text": [
      "\n",
      "[notice] A new release of pip is available: 24.0 -> 24.3.1\n",
      "[notice] To update, run: python.exe -m pip install --upgrade pip\n"
     ]
    },
    {
     "name": "stdout",
     "output_type": "stream",
     "text": [
      "Requirement already satisfied: scikit-learn in c:\\users\\matias\\desktop\\tp especial - ciencia de datos\\practicoespecialvenv\\lib\\site-packages (1.5.2)\n",
      "Requirement already satisfied: numpy>=1.19.5 in c:\\users\\matias\\desktop\\tp especial - ciencia de datos\\practicoespecialvenv\\lib\\site-packages (from scikit-learn) (2.1.1)\n",
      "Requirement already satisfied: scipy>=1.6.0 in c:\\users\\matias\\desktop\\tp especial - ciencia de datos\\practicoespecialvenv\\lib\\site-packages (from scikit-learn) (1.14.1)\n",
      "Requirement already satisfied: joblib>=1.2.0 in c:\\users\\matias\\desktop\\tp especial - ciencia de datos\\practicoespecialvenv\\lib\\site-packages (from scikit-learn) (1.4.2)\n",
      "Requirement already satisfied: threadpoolctl>=3.1.0 in c:\\users\\matias\\desktop\\tp especial - ciencia de datos\\practicoespecialvenv\\lib\\site-packages (from scikit-learn) (3.5.0)\n",
      "Note: you may need to restart the kernel to use updated packages.\n"
     ]
    },
    {
     "name": "stderr",
     "output_type": "stream",
     "text": [
      "\n",
      "[notice] A new release of pip is available: 24.0 -> 24.3.1\n",
      "[notice] To update, run: python.exe -m pip install --upgrade pip\n"
     ]
    },
    {
     "name": "stdout",
     "output_type": "stream",
     "text": [
      "Requirement already satisfied: scipy in c:\\users\\matias\\desktop\\tp especial - ciencia de datos\\practicoespecialvenv\\lib\\site-packages (1.14.1)\n",
      "Requirement already satisfied: numpy<2.3,>=1.23.5 in c:\\users\\matias\\desktop\\tp especial - ciencia de datos\\practicoespecialvenv\\lib\\site-packages (from scipy) (2.1.1)\n",
      "Note: you may need to restart the kernel to use updated packages.\n"
     ]
    },
    {
     "name": "stderr",
     "output_type": "stream",
     "text": [
      "\n",
      "[notice] A new release of pip is available: 24.0 -> 24.3.1\n",
      "[notice] To update, run: python.exe -m pip install --upgrade pip\n"
     ]
    },
    {
     "name": "stdout",
     "output_type": "stream",
     "text": [
      "Requirement already satisfied: seaborn in c:\\users\\matias\\desktop\\tp especial - ciencia de datos\\practicoespecialvenv\\lib\\site-packages (0.13.2)\n",
      "Requirement already satisfied: numpy!=1.24.0,>=1.20 in c:\\users\\matias\\desktop\\tp especial - ciencia de datos\\practicoespecialvenv\\lib\\site-packages (from seaborn) (2.1.1)\n",
      "Requirement already satisfied: pandas>=1.2 in c:\\users\\matias\\desktop\\tp especial - ciencia de datos\\practicoespecialvenv\\lib\\site-packages (from seaborn) (2.2.3)\n",
      "Requirement already satisfied: matplotlib!=3.6.1,>=3.4 in c:\\users\\matias\\desktop\\tp especial - ciencia de datos\\practicoespecialvenv\\lib\\site-packages (from seaborn) (3.9.2)\n",
      "Requirement already satisfied: contourpy>=1.0.1 in c:\\users\\matias\\desktop\\tp especial - ciencia de datos\\practicoespecialvenv\\lib\\site-packages (from matplotlib!=3.6.1,>=3.4->seaborn) (1.3.1)\n",
      "Requirement already satisfied: cycler>=0.10 in c:\\users\\matias\\desktop\\tp especial - ciencia de datos\\practicoespecialvenv\\lib\\site-packages (from matplotlib!=3.6.1,>=3.4->seaborn) (0.12.1)\n",
      "Requirement already satisfied: fonttools>=4.22.0 in c:\\users\\matias\\desktop\\tp especial - ciencia de datos\\practicoespecialvenv\\lib\\site-packages (from matplotlib!=3.6.1,>=3.4->seaborn) (4.54.1)\n",
      "Requirement already satisfied: kiwisolver>=1.3.1 in c:\\users\\matias\\desktop\\tp especial - ciencia de datos\\practicoespecialvenv\\lib\\site-packages (from matplotlib!=3.6.1,>=3.4->seaborn) (1.4.7)\n",
      "Requirement already satisfied: packaging>=20.0 in c:\\users\\matias\\desktop\\tp especial - ciencia de datos\\practicoespecialvenv\\lib\\site-packages (from matplotlib!=3.6.1,>=3.4->seaborn) (24.1)\n",
      "Requirement already satisfied: pillow>=8 in c:\\users\\matias\\desktop\\tp especial - ciencia de datos\\practicoespecialvenv\\lib\\site-packages (from matplotlib!=3.6.1,>=3.4->seaborn) (11.0.0)\n",
      "Requirement already satisfied: pyparsing>=2.3.1 in c:\\users\\matias\\desktop\\tp especial - ciencia de datos\\practicoespecialvenv\\lib\\site-packages (from matplotlib!=3.6.1,>=3.4->seaborn) (3.2.0)\n",
      "Requirement already satisfied: python-dateutil>=2.7 in c:\\users\\matias\\desktop\\tp especial - ciencia de datos\\practicoespecialvenv\\lib\\site-packages (from matplotlib!=3.6.1,>=3.4->seaborn) (2.9.0.post0)\n",
      "Requirement already satisfied: pytz>=2020.1 in c:\\users\\matias\\desktop\\tp especial - ciencia de datos\\practicoespecialvenv\\lib\\site-packages (from pandas>=1.2->seaborn) (2024.2)\n",
      "Requirement already satisfied: tzdata>=2022.7 in c:\\users\\matias\\desktop\\tp especial - ciencia de datos\\practicoespecialvenv\\lib\\site-packages (from pandas>=1.2->seaborn) (2024.1)\n",
      "Requirement already satisfied: six>=1.5 in c:\\users\\matias\\desktop\\tp especial - ciencia de datos\\practicoespecialvenv\\lib\\site-packages (from python-dateutil>=2.7->matplotlib!=3.6.1,>=3.4->seaborn) (1.16.0)\n",
      "Note: you may need to restart the kernel to use updated packages.\n"
     ]
    },
    {
     "name": "stderr",
     "output_type": "stream",
     "text": [
      "\n",
      "[notice] A new release of pip is available: 24.0 -> 24.3.1\n",
      "[notice] To update, run: python.exe -m pip install --upgrade pip\n"
     ]
    }
   ],
   "source": [
    "# corroborar si funciona con % o con !\n",
    "\n",
    "%pip install pandas\n",
    "%pip install matplotlib\n",
    "%pip install numpy\n",
    "%pip install fancyimpute\n",
    "%pip install scikit-learn\n",
    "%pip install scipy\n",
    "%pip install seaborn\n",
    "\n",
    "# importar librerias \n",
    "import pandas as pd\n",
    "import numpy as np\n",
    "import matplotlib.pyplot as plt\n",
    "from fancyimpute import IterativeImputer,KNN\n",
    "from sklearn.impute import KNNImputer\n",
    "from scipy.stats import pearsonr\n",
    "from sklearn.metrics import mean_squared_error\n",
    "import seaborn as sns\n",
    "\n"
   ]
  },
  {
   "cell_type": "code",
   "execution_count": 4,
   "metadata": {},
   "outputs": [],
   "source": [
    "raw_dataset = pd.read_csv(\"Calidad_de_agua_2022.csv\", sep =\";\")"
   ]
  },
  {
   "cell_type": "markdown",
   "metadata": {},
   "source": [
    "Desplegamos el dataset para realizar un vistazo generico"
   ]
  },
  {
   "cell_type": "code",
   "execution_count": 5,
   "metadata": {},
   "outputs": [
    {
     "data": {
      "text/html": [
       "<div>\n",
       "<style scoped>\n",
       "    .dataframe tbody tr th:only-of-type {\n",
       "        vertical-align: middle;\n",
       "    }\n",
       "\n",
       "    .dataframe tbody tr th {\n",
       "        vertical-align: top;\n",
       "    }\n",
       "\n",
       "    .dataframe thead th {\n",
       "        text-align: right;\n",
       "    }\n",
       "</style>\n",
       "<table border=\"1\" class=\"dataframe\">\n",
       "  <thead>\n",
       "    <tr style=\"text-align: right;\">\n",
       "      <th></th>\n",
       "      <th>orden</th>\n",
       "      <th>sitios</th>\n",
       "      <th>codigo</th>\n",
       "      <th>fecha</th>\n",
       "      <th>año</th>\n",
       "      <th>campaña</th>\n",
       "      <th>tem_agua</th>\n",
       "      <th>tem_aire</th>\n",
       "      <th>od</th>\n",
       "      <th>ph</th>\n",
       "      <th>...</th>\n",
       "      <th>dbo_mg_l</th>\n",
       "      <th>dqo_mg_l</th>\n",
       "      <th>turbiedad_ntu</th>\n",
       "      <th>hidr_deriv_petr_ug_l</th>\n",
       "      <th>cr_total_mg_l</th>\n",
       "      <th>cd_total_mg_l</th>\n",
       "      <th>clorofila_a_ug_l</th>\n",
       "      <th>microcistina_ug_l</th>\n",
       "      <th>ica</th>\n",
       "      <th>calidad_de_agua</th>\n",
       "    </tr>\n",
       "  </thead>\n",
       "  <tbody>\n",
       "    <tr>\n",
       "      <th>0</th>\n",
       "      <td>1</td>\n",
       "      <td>Canal Villanueva y Río Luján</td>\n",
       "      <td>TI001</td>\n",
       "      <td>23/2/2022</td>\n",
       "      <td>2022</td>\n",
       "      <td>Verano</td>\n",
       "      <td>24.5</td>\n",
       "      <td>23.3</td>\n",
       "      <td>5.3</td>\n",
       "      <td>6.56</td>\n",
       "      <td>...</td>\n",
       "      <td>6.2</td>\n",
       "      <td>29</td>\n",
       "      <td>90</td>\n",
       "      <td>&lt;0.10</td>\n",
       "      <td>&lt;0.005</td>\n",
       "      <td>&lt;0.001</td>\n",
       "      <td>&lt;10</td>\n",
       "      <td>&lt;0.20</td>\n",
       "      <td>55</td>\n",
       "      <td>Muy deteriorada</td>\n",
       "    </tr>\n",
       "    <tr>\n",
       "      <th>1</th>\n",
       "      <td>2</td>\n",
       "      <td>Río Lujan y Arroyo Caraguatá</td>\n",
       "      <td>TI006</td>\n",
       "      <td>23/2/2022</td>\n",
       "      <td>2022</td>\n",
       "      <td>Verano</td>\n",
       "      <td>25.4</td>\n",
       "      <td>23.3</td>\n",
       "      <td>2.25</td>\n",
       "      <td>6.56</td>\n",
       "      <td>...</td>\n",
       "      <td>5.8</td>\n",
       "      <td>29</td>\n",
       "      <td>34</td>\n",
       "      <td>&lt;0.10</td>\n",
       "      <td>&lt;0.005</td>\n",
       "      <td>&lt;0.001</td>\n",
       "      <td>&lt;10</td>\n",
       "      <td>&lt;0.20</td>\n",
       "      <td>42</td>\n",
       "      <td>Extremadamente deteriorada</td>\n",
       "    </tr>\n",
       "    <tr>\n",
       "      <th>2</th>\n",
       "      <td>3</td>\n",
       "      <td>Canal Aliviador y Río Lujan</td>\n",
       "      <td>TI002</td>\n",
       "      <td>23/2/2022</td>\n",
       "      <td>2022</td>\n",
       "      <td>Verano</td>\n",
       "      <td>24.6</td>\n",
       "      <td>23.3</td>\n",
       "      <td>2.94</td>\n",
       "      <td>6.59</td>\n",
       "      <td>...</td>\n",
       "      <td>1.9</td>\n",
       "      <td>29</td>\n",
       "      <td>17</td>\n",
       "      <td>&lt;0.10</td>\n",
       "      <td>&lt;0.005</td>\n",
       "      <td>&lt;0.001</td>\n",
       "      <td>&lt;10</td>\n",
       "      <td>0.2</td>\n",
       "      <td>45</td>\n",
       "      <td>Muy deteriorada</td>\n",
       "    </tr>\n",
       "    <tr>\n",
       "      <th>3</th>\n",
       "      <td>4</td>\n",
       "      <td>Río Carapachay y Arroyo Gallo Fiambre</td>\n",
       "      <td>TI003</td>\n",
       "      <td>23/2/2022</td>\n",
       "      <td>2022</td>\n",
       "      <td>Verano</td>\n",
       "      <td>25.2</td>\n",
       "      <td>23.3</td>\n",
       "      <td>2.22</td>\n",
       "      <td>7.45</td>\n",
       "      <td>...</td>\n",
       "      <td>5.8</td>\n",
       "      <td>29</td>\n",
       "      <td>23</td>\n",
       "      <td>&lt;0.10</td>\n",
       "      <td>&lt;0.005</td>\n",
       "      <td>&lt;0.001</td>\n",
       "      <td>&lt;10</td>\n",
       "      <td>&lt;0.20</td>\n",
       "      <td>46</td>\n",
       "      <td>Muy deteriorada</td>\n",
       "    </tr>\n",
       "    <tr>\n",
       "      <th>4</th>\n",
       "      <td>5</td>\n",
       "      <td>Río Reconquista y Río Lujan</td>\n",
       "      <td>TI004</td>\n",
       "      <td>23/2/2022</td>\n",
       "      <td>2022</td>\n",
       "      <td>Verano</td>\n",
       "      <td>24.1</td>\n",
       "      <td>20</td>\n",
       "      <td>1.02</td>\n",
       "      <td>6.39</td>\n",
       "      <td>...</td>\n",
       "      <td>2.6</td>\n",
       "      <td>59</td>\n",
       "      <td>18</td>\n",
       "      <td>&lt;0.10</td>\n",
       "      <td>&lt;0.005</td>\n",
       "      <td>&lt;0.001</td>\n",
       "      <td>&lt;10</td>\n",
       "      <td>&lt;0.20</td>\n",
       "      <td>44</td>\n",
       "      <td>Extremadamente deteriorada</td>\n",
       "    </tr>\n",
       "    <tr>\n",
       "      <th>...</th>\n",
       "      <td>...</td>\n",
       "      <td>...</td>\n",
       "      <td>...</td>\n",
       "      <td>...</td>\n",
       "      <td>...</td>\n",
       "      <td>...</td>\n",
       "      <td>...</td>\n",
       "      <td>...</td>\n",
       "      <td>...</td>\n",
       "      <td>...</td>\n",
       "      <td>...</td>\n",
       "      <td>...</td>\n",
       "      <td>...</td>\n",
       "      <td>...</td>\n",
       "      <td>...</td>\n",
       "      <td>...</td>\n",
       "      <td>...</td>\n",
       "      <td>...</td>\n",
       "      <td>...</td>\n",
       "      <td>...</td>\n",
       "      <td>...</td>\n",
       "    </tr>\n",
       "    <tr>\n",
       "      <th>163</th>\n",
       "      <td>38</td>\n",
       "      <td>Balneario Palo Blanco</td>\n",
       "      <td>BS092</td>\n",
       "      <td>31/10/2022</td>\n",
       "      <td>2022</td>\n",
       "      <td>Primavera</td>\n",
       "      <td>10</td>\n",
       "      <td>12</td>\n",
       "      <td>no se midió</td>\n",
       "      <td>no se midió</td>\n",
       "      <td>...</td>\n",
       "      <td>no se midió</td>\n",
       "      <td>&lt;30</td>\n",
       "      <td>23</td>\n",
       "      <td>&lt;0.10</td>\n",
       "      <td>&lt;0.005</td>\n",
       "      <td>&lt;0.001</td>\n",
       "      <td>2.1</td>\n",
       "      <td>&lt;0.15</td>\n",
       "      <td>43</td>\n",
       "      <td>Extremadamente deteriorada</td>\n",
       "    </tr>\n",
       "    <tr>\n",
       "      <th>164</th>\n",
       "      <td>39</td>\n",
       "      <td>Diagonal 66 (descarga cloaca)</td>\n",
       "      <td>BS095</td>\n",
       "      <td>31/10/2022</td>\n",
       "      <td>2022</td>\n",
       "      <td>Primavera</td>\n",
       "      <td>10</td>\n",
       "      <td>12</td>\n",
       "      <td>no se midió</td>\n",
       "      <td>no se midió</td>\n",
       "      <td>...</td>\n",
       "      <td>no se midió</td>\n",
       "      <td>31</td>\n",
       "      <td>18.2</td>\n",
       "      <td>&lt;0.10</td>\n",
       "      <td>&lt;0.005</td>\n",
       "      <td>&lt;0.001</td>\n",
       "      <td>20.2</td>\n",
       "      <td>&lt;0.15</td>\n",
       "      <td>37</td>\n",
       "      <td>Extremadamente deteriorada</td>\n",
       "    </tr>\n",
       "    <tr>\n",
       "      <th>165</th>\n",
       "      <td>40</td>\n",
       "      <td>Playa La Bagliardi</td>\n",
       "      <td>BS091</td>\n",
       "      <td>31/10/2022</td>\n",
       "      <td>2022</td>\n",
       "      <td>Primavera</td>\n",
       "      <td>10</td>\n",
       "      <td>12</td>\n",
       "      <td>no se midió</td>\n",
       "      <td>no se midió</td>\n",
       "      <td>...</td>\n",
       "      <td>no se midió</td>\n",
       "      <td>&lt;30</td>\n",
       "      <td>40</td>\n",
       "      <td>&lt;0.10</td>\n",
       "      <td>&lt;0.005</td>\n",
       "      <td>&lt;0.001</td>\n",
       "      <td>0.2</td>\n",
       "      <td>&lt;0.15</td>\n",
       "      <td>49</td>\n",
       "      <td>Muy deteriorada</td>\n",
       "    </tr>\n",
       "    <tr>\n",
       "      <th>166</th>\n",
       "      <td>41</td>\n",
       "      <td>Balneario Municipal</td>\n",
       "      <td>BS094</td>\n",
       "      <td>31/10/2022</td>\n",
       "      <td>2022</td>\n",
       "      <td>Primavera</td>\n",
       "      <td>10</td>\n",
       "      <td>12</td>\n",
       "      <td>no se midió</td>\n",
       "      <td>no se midió</td>\n",
       "      <td>...</td>\n",
       "      <td>no se midió</td>\n",
       "      <td>39</td>\n",
       "      <td>90</td>\n",
       "      <td>&lt;0.10</td>\n",
       "      <td>5</td>\n",
       "      <td>&lt;0.001</td>\n",
       "      <td>10.5</td>\n",
       "      <td>&lt;0.15</td>\n",
       "      <td>39</td>\n",
       "      <td>Extremadamente deteriorada</td>\n",
       "    </tr>\n",
       "    <tr>\n",
       "      <th>167</th>\n",
       "      <td>42</td>\n",
       "      <td>Playa La Balandra</td>\n",
       "      <td>BS093</td>\n",
       "      <td>31/10/2022</td>\n",
       "      <td>2022</td>\n",
       "      <td>Primavera</td>\n",
       "      <td>10</td>\n",
       "      <td>12</td>\n",
       "      <td>no se midió</td>\n",
       "      <td>no se midió</td>\n",
       "      <td>...</td>\n",
       "      <td>no se midió</td>\n",
       "      <td>&lt;30</td>\n",
       "      <td>70</td>\n",
       "      <td>&lt;0.10</td>\n",
       "      <td>5</td>\n",
       "      <td>&lt;0.001</td>\n",
       "      <td>48.0</td>\n",
       "      <td>&lt;0.15</td>\n",
       "      <td>34</td>\n",
       "      <td>Extremadamente deteriorada</td>\n",
       "    </tr>\n",
       "  </tbody>\n",
       "</table>\n",
       "<p>168 rows × 31 columns</p>\n",
       "</div>"
      ],
      "text/plain": [
       "     orden                                 sitios codigo       fecha   año  \\\n",
       "0        1           Canal Villanueva y Río Luján  TI001   23/2/2022  2022   \n",
       "1        2           Río Lujan y Arroyo Caraguatá  TI006   23/2/2022  2022   \n",
       "2        3            Canal Aliviador y Río Lujan  TI002   23/2/2022  2022   \n",
       "3        4  Río Carapachay y Arroyo Gallo Fiambre  TI003   23/2/2022  2022   \n",
       "4        5            Río Reconquista y Río Lujan  TI004   23/2/2022  2022   \n",
       "..     ...                                    ...    ...         ...   ...   \n",
       "163     38                  Balneario Palo Blanco  BS092  31/10/2022  2022   \n",
       "164     39          Diagonal 66 (descarga cloaca)  BS095  31/10/2022  2022   \n",
       "165     40                     Playa La Bagliardi  BS091  31/10/2022  2022   \n",
       "166     41                    Balneario Municipal  BS094  31/10/2022  2022   \n",
       "167     42                      Playa La Balandra  BS093  31/10/2022  2022   \n",
       "\n",
       "       campaña tem_agua tem_aire           od           ph  ...     dbo_mg_l  \\\n",
       "0       Verano     24.5     23.3          5.3         6.56  ...          6.2   \n",
       "1       Verano     25.4     23.3         2.25         6.56  ...          5.8   \n",
       "2       Verano     24.6     23.3         2.94         6.59  ...          1.9   \n",
       "3       Verano     25.2     23.3         2.22         7.45  ...          5.8   \n",
       "4       Verano     24.1       20         1.02         6.39  ...          2.6   \n",
       "..         ...      ...      ...          ...          ...  ...          ...   \n",
       "163  Primavera       10       12  no se midió  no se midió  ...  no se midió   \n",
       "164  Primavera       10       12  no se midió  no se midió  ...  no se midió   \n",
       "165  Primavera       10       12  no se midió  no se midió  ...  no se midió   \n",
       "166  Primavera       10       12  no se midió  no se midió  ...  no se midió   \n",
       "167  Primavera       10       12  no se midió  no se midió  ...  no se midió   \n",
       "\n",
       "    dqo_mg_l turbiedad_ntu hidr_deriv_petr_ug_l cr_total_mg_l cd_total_mg_l  \\\n",
       "0         29            90                <0.10        <0.005        <0.001   \n",
       "1         29            34                <0.10        <0.005        <0.001   \n",
       "2         29            17                <0.10        <0.005        <0.001   \n",
       "3         29            23                <0.10        <0.005        <0.001   \n",
       "4         59            18                <0.10        <0.005        <0.001   \n",
       "..       ...           ...                  ...           ...           ...   \n",
       "163      <30            23                <0.10        <0.005        <0.001   \n",
       "164       31          18.2                <0.10        <0.005        <0.001   \n",
       "165      <30            40                <0.10        <0.005        <0.001   \n",
       "166       39            90                <0.10             5        <0.001   \n",
       "167      <30            70                <0.10             5        <0.001   \n",
       "\n",
       "    clorofila_a_ug_l microcistina_ug_l ica             calidad_de_agua  \n",
       "0                <10             <0.20  55             Muy deteriorada  \n",
       "1                <10             <0.20  42  Extremadamente deteriorada  \n",
       "2                <10               0.2  45             Muy deteriorada  \n",
       "3                <10             <0.20  46             Muy deteriorada  \n",
       "4                <10             <0.20  44  Extremadamente deteriorada  \n",
       "..               ...               ...  ..                         ...  \n",
       "163              2.1             <0.15  43  Extremadamente deteriorada  \n",
       "164             20.2             <0.15  37  Extremadamente deteriorada  \n",
       "165              0.2             <0.15  49             Muy deteriorada  \n",
       "166             10.5             <0.15  39  Extremadamente deteriorada  \n",
       "167             48.0             <0.15  34  Extremadamente deteriorada  \n",
       "\n",
       "[168 rows x 31 columns]"
      ]
     },
     "execution_count": 5,
     "metadata": {},
     "output_type": "execute_result"
    }
   ],
   "source": [
    "#pd.reset_option('display.max_rows') - \n",
    "# descomentar lo de arriba si quiere que le muestre el dataset truncado!!!!\n",
    "raw_dataset"
   ]
  },
  {
   "cell_type": "markdown",
   "metadata": {},
   "source": [
    "Ahora le pedimos un poco de informacion para analizar contexto de los datos"
   ]
  },
  {
   "cell_type": "code",
   "execution_count": 6,
   "metadata": {},
   "outputs": [
    {
     "name": "stdout",
     "output_type": "stream",
     "text": [
      "<class 'pandas.core.frame.DataFrame'>\n",
      "RangeIndex: 168 entries, 0 to 167\n",
      "Data columns (total 31 columns):\n",
      " #   Column                   Non-Null Count  Dtype \n",
      "---  ------                   --------------  ----- \n",
      " 0   orden                    168 non-null    int64 \n",
      " 1   sitios                   168 non-null    object\n",
      " 2   codigo                   168 non-null    object\n",
      " 3   fecha                    168 non-null    object\n",
      " 4   año                      168 non-null    object\n",
      " 5   campaña                  168 non-null    object\n",
      " 6   tem_agua                 168 non-null    object\n",
      " 7   tem_aire                 166 non-null    object\n",
      " 8   od                       168 non-null    object\n",
      " 9   ph                       168 non-null    object\n",
      " 10  olores                   168 non-null    object\n",
      " 11  color                    168 non-null    object\n",
      " 12  espumas                  168 non-null    object\n",
      " 13  mat_susp                 168 non-null    object\n",
      " 14  colif_fecales_ufc_100ml  167 non-null    object\n",
      " 15  escher_coli_ufc_100ml    167 non-null    object\n",
      " 16  enteroc_ufc_100ml        167 non-null    object\n",
      " 17  nitrato_mg_l             168 non-null    object\n",
      " 18  nh4_mg_l                 168 non-null    object\n",
      " 19  p_total_l_mg_l           168 non-null    object\n",
      " 20  fosf_ortofos_mg_l        168 non-null    object\n",
      " 21  dbo_mg_l                 167 non-null    object\n",
      " 22  dqo_mg_l                 168 non-null    object\n",
      " 23  turbiedad_ntu            168 non-null    object\n",
      " 24  hidr_deriv_petr_ug_l     168 non-null    object\n",
      " 25  cr_total_mg_l            168 non-null    object\n",
      " 26  cd_total_mg_l            168 non-null    object\n",
      " 27  clorofila_a_ug_l         167 non-null    object\n",
      " 28  microcistina_ug_l        168 non-null    object\n",
      " 29  ica                      155 non-null    object\n",
      " 30  calidad_de_agua          154 non-null    object\n",
      "dtypes: int64(1), object(30)\n",
      "memory usage: 40.8+ KB\n"
     ]
    }
   ],
   "source": [
    "raw_dataset.info()"
   ]
  },
  {
   "cell_type": "markdown",
   "metadata": {},
   "source": [
    "En total tenemos 31 columnas (atributos) y 168 filas (observaciones). Se puede ver que hay ciertas columnas con NULL y que el tipo de datos practicamente es OBJECT exceptuando la primer columna \"orden\" que es de tipo INT64."
   ]
  },
  {
   "cell_type": "code",
   "execution_count": 7,
   "metadata": {},
   "outputs": [
    {
     "data": {
      "text/html": [
       "<div>\n",
       "<style scoped>\n",
       "    .dataframe tbody tr th:only-of-type {\n",
       "        vertical-align: middle;\n",
       "    }\n",
       "\n",
       "    .dataframe tbody tr th {\n",
       "        vertical-align: top;\n",
       "    }\n",
       "\n",
       "    .dataframe thead th {\n",
       "        text-align: right;\n",
       "    }\n",
       "</style>\n",
       "<table border=\"1\" class=\"dataframe\">\n",
       "  <thead>\n",
       "    <tr style=\"text-align: right;\">\n",
       "      <th></th>\n",
       "      <th>orden</th>\n",
       "      <th>sitios</th>\n",
       "      <th>codigo</th>\n",
       "      <th>fecha</th>\n",
       "      <th>año</th>\n",
       "      <th>campaña</th>\n",
       "      <th>tem_agua</th>\n",
       "      <th>tem_aire</th>\n",
       "      <th>od</th>\n",
       "      <th>ph</th>\n",
       "      <th>...</th>\n",
       "      <th>dbo_mg_l</th>\n",
       "      <th>dqo_mg_l</th>\n",
       "      <th>turbiedad_ntu</th>\n",
       "      <th>hidr_deriv_petr_ug_l</th>\n",
       "      <th>cr_total_mg_l</th>\n",
       "      <th>cd_total_mg_l</th>\n",
       "      <th>clorofila_a_ug_l</th>\n",
       "      <th>microcistina_ug_l</th>\n",
       "      <th>ica</th>\n",
       "      <th>calidad_de_agua</th>\n",
       "    </tr>\n",
       "  </thead>\n",
       "  <tbody>\n",
       "    <tr>\n",
       "      <th>0</th>\n",
       "      <td>1</td>\n",
       "      <td>Canal Villanueva y Río Luján</td>\n",
       "      <td>TI001</td>\n",
       "      <td>23/2/2022</td>\n",
       "      <td>2022</td>\n",
       "      <td>Verano</td>\n",
       "      <td>24.5</td>\n",
       "      <td>23.3</td>\n",
       "      <td>5.3</td>\n",
       "      <td>6.56</td>\n",
       "      <td>...</td>\n",
       "      <td>6.2</td>\n",
       "      <td>29</td>\n",
       "      <td>90</td>\n",
       "      <td>&lt;0.10</td>\n",
       "      <td>&lt;0.005</td>\n",
       "      <td>&lt;0.001</td>\n",
       "      <td>&lt;10</td>\n",
       "      <td>&lt;0.20</td>\n",
       "      <td>55</td>\n",
       "      <td>Muy deteriorada</td>\n",
       "    </tr>\n",
       "    <tr>\n",
       "      <th>1</th>\n",
       "      <td>2</td>\n",
       "      <td>Río Lujan y Arroyo Caraguatá</td>\n",
       "      <td>TI006</td>\n",
       "      <td>23/2/2022</td>\n",
       "      <td>2022</td>\n",
       "      <td>Verano</td>\n",
       "      <td>25.4</td>\n",
       "      <td>23.3</td>\n",
       "      <td>2.25</td>\n",
       "      <td>6.56</td>\n",
       "      <td>...</td>\n",
       "      <td>5.8</td>\n",
       "      <td>29</td>\n",
       "      <td>34</td>\n",
       "      <td>&lt;0.10</td>\n",
       "      <td>&lt;0.005</td>\n",
       "      <td>&lt;0.001</td>\n",
       "      <td>&lt;10</td>\n",
       "      <td>&lt;0.20</td>\n",
       "      <td>42</td>\n",
       "      <td>Extremadamente deteriorada</td>\n",
       "    </tr>\n",
       "    <tr>\n",
       "      <th>2</th>\n",
       "      <td>3</td>\n",
       "      <td>Canal Aliviador y Río Lujan</td>\n",
       "      <td>TI002</td>\n",
       "      <td>23/2/2022</td>\n",
       "      <td>2022</td>\n",
       "      <td>Verano</td>\n",
       "      <td>24.6</td>\n",
       "      <td>23.3</td>\n",
       "      <td>2.94</td>\n",
       "      <td>6.59</td>\n",
       "      <td>...</td>\n",
       "      <td>1.9</td>\n",
       "      <td>29</td>\n",
       "      <td>17</td>\n",
       "      <td>&lt;0.10</td>\n",
       "      <td>&lt;0.005</td>\n",
       "      <td>&lt;0.001</td>\n",
       "      <td>&lt;10</td>\n",
       "      <td>0.2</td>\n",
       "      <td>45</td>\n",
       "      <td>Muy deteriorada</td>\n",
       "    </tr>\n",
       "    <tr>\n",
       "      <th>3</th>\n",
       "      <td>4</td>\n",
       "      <td>Río Carapachay y Arroyo Gallo Fiambre</td>\n",
       "      <td>TI003</td>\n",
       "      <td>23/2/2022</td>\n",
       "      <td>2022</td>\n",
       "      <td>Verano</td>\n",
       "      <td>25.2</td>\n",
       "      <td>23.3</td>\n",
       "      <td>2.22</td>\n",
       "      <td>7.45</td>\n",
       "      <td>...</td>\n",
       "      <td>5.8</td>\n",
       "      <td>29</td>\n",
       "      <td>23</td>\n",
       "      <td>&lt;0.10</td>\n",
       "      <td>&lt;0.005</td>\n",
       "      <td>&lt;0.001</td>\n",
       "      <td>&lt;10</td>\n",
       "      <td>&lt;0.20</td>\n",
       "      <td>46</td>\n",
       "      <td>Muy deteriorada</td>\n",
       "    </tr>\n",
       "    <tr>\n",
       "      <th>4</th>\n",
       "      <td>5</td>\n",
       "      <td>Río Reconquista y Río Lujan</td>\n",
       "      <td>TI004</td>\n",
       "      <td>23/2/2022</td>\n",
       "      <td>2022</td>\n",
       "      <td>Verano</td>\n",
       "      <td>24.1</td>\n",
       "      <td>20</td>\n",
       "      <td>1.02</td>\n",
       "      <td>6.39</td>\n",
       "      <td>...</td>\n",
       "      <td>2.6</td>\n",
       "      <td>59</td>\n",
       "      <td>18</td>\n",
       "      <td>&lt;0.10</td>\n",
       "      <td>&lt;0.005</td>\n",
       "      <td>&lt;0.001</td>\n",
       "      <td>&lt;10</td>\n",
       "      <td>&lt;0.20</td>\n",
       "      <td>44</td>\n",
       "      <td>Extremadamente deteriorada</td>\n",
       "    </tr>\n",
       "  </tbody>\n",
       "</table>\n",
       "<p>5 rows × 31 columns</p>\n",
       "</div>"
      ],
      "text/plain": [
       "   orden                                 sitios codigo      fecha   año  \\\n",
       "0      1           Canal Villanueva y Río Luján  TI001  23/2/2022  2022   \n",
       "1      2           Río Lujan y Arroyo Caraguatá  TI006  23/2/2022  2022   \n",
       "2      3            Canal Aliviador y Río Lujan  TI002  23/2/2022  2022   \n",
       "3      4  Río Carapachay y Arroyo Gallo Fiambre  TI003  23/2/2022  2022   \n",
       "4      5            Río Reconquista y Río Lujan  TI004  23/2/2022  2022   \n",
       "\n",
       "  campaña tem_agua tem_aire    od    ph  ... dbo_mg_l dqo_mg_l turbiedad_ntu  \\\n",
       "0  Verano     24.5     23.3   5.3  6.56  ...      6.2       29            90   \n",
       "1  Verano     25.4     23.3  2.25  6.56  ...      5.8       29            34   \n",
       "2  Verano     24.6     23.3  2.94  6.59  ...      1.9       29            17   \n",
       "3  Verano     25.2     23.3  2.22  7.45  ...      5.8       29            23   \n",
       "4  Verano     24.1       20  1.02  6.39  ...      2.6       59            18   \n",
       "\n",
       "  hidr_deriv_petr_ug_l cr_total_mg_l cd_total_mg_l clorofila_a_ug_l  \\\n",
       "0                <0.10        <0.005        <0.001              <10   \n",
       "1                <0.10        <0.005        <0.001              <10   \n",
       "2                <0.10        <0.005        <0.001              <10   \n",
       "3                <0.10        <0.005        <0.001              <10   \n",
       "4                <0.10        <0.005        <0.001              <10   \n",
       "\n",
       "  microcistina_ug_l ica             calidad_de_agua  \n",
       "0             <0.20  55             Muy deteriorada  \n",
       "1             <0.20  42  Extremadamente deteriorada  \n",
       "2               0.2  45             Muy deteriorada  \n",
       "3             <0.20  46             Muy deteriorada  \n",
       "4             <0.20  44  Extremadamente deteriorada  \n",
       "\n",
       "[5 rows x 31 columns]"
      ]
     },
     "execution_count": 7,
     "metadata": {},
     "output_type": "execute_result"
    }
   ],
   "source": [
    "raw_dataset.head()"
   ]
  },
  {
   "cell_type": "markdown",
   "metadata": {},
   "source": [
    "A simple vista veo que tendremos que tratar lo siguiente:\n",
    "1) Hay valores que enves de tener un tipo de dato cuantitativo en el atributo, tienen un string categorico que dice \"no se midio\" o variantes del mismo, por ejemplo en OD(oxigeno disuelto), esto deberia de ser reemplazado NA.\n",
    "2) Hay datos cuantitativos que adelante del valor numerico tienen un string \"<\", como en el caso de las mediciones de los contaminantes en el agua.\n",
    "Podriamos generar un mapa que descriva las observaciones de dicha variable. \n",
    "3) Hay datos cualitativos nominales que indican \"presencia\" o \"ausencia\" de algún compuesto en el agua, estás variables son dicotomicas, seran reemplazados por {0, 1} de acuerdo a su impacto en la muestra. \n",
    "4) Hay datos cualitativos ordinales como \"muy deteriorada\" o \"extremadamente deteriorada\" que hacen referencia al agua de esa zona, seran reemplazados mediante transformacion \"ordinal encoding\" ya que el orden es significativo."
   ]
  },
  {
   "cell_type": "markdown",
   "metadata": {},
   "source": [
    "Veamos cuantos valores repetidos tiene el dataset"
   ]
  },
  {
   "cell_type": "code",
   "execution_count": 8,
   "metadata": {},
   "outputs": [
    {
     "data": {
      "text/plain": [
       "np.int64(0)"
      ]
     },
     "execution_count": 8,
     "metadata": {},
     "output_type": "execute_result"
    }
   ],
   "source": [
    "raw_dataset.duplicated().sum()"
   ]
  },
  {
   "cell_type": "markdown",
   "metadata": {},
   "source": [
    "Por lo visto no existe valores repetidos a simple vista."
   ]
  },
  {
   "cell_type": "markdown",
   "metadata": {},
   "source": [
    "Ya que empezaremos a modificar el dataset, una buena practica es copiar el dataset"
   ]
  },
  {
   "cell_type": "code",
   "execution_count": 9,
   "metadata": {},
   "outputs": [],
   "source": [
    "copy_dataset = raw_dataset.copy()"
   ]
  },
  {
   "cell_type": "markdown",
   "metadata": {},
   "source": [
    "podemos eliminar columnas que no tienen mucho sentido, como por ejemplo \"orden\" y vamos a eliminar \"año\", ya que todas las observaciones se hicieron en 2022 y no agregan mucha informacion"
   ]
  },
  {
   "cell_type": "code",
   "execution_count": 10,
   "metadata": {},
   "outputs": [],
   "source": [
    "copy_dataset = copy_dataset.drop(\"orden\",axis=1)\n",
    "copy_dataset = copy_dataset.drop(\"año\",axis=1)"
   ]
  },
  {
   "cell_type": "markdown",
   "metadata": {},
   "source": [
    "Ahora vamos a ver que columnas tienen nulos"
   ]
  },
  {
   "cell_type": "code",
   "execution_count": 11,
   "metadata": {},
   "outputs": [
    {
     "data": {
      "text/plain": [
       "sitios                      0\n",
       "codigo                      0\n",
       "fecha                       0\n",
       "campaña                     0\n",
       "tem_agua                    0\n",
       "tem_aire                    2\n",
       "od                          0\n",
       "ph                          0\n",
       "olores                      0\n",
       "color                       0\n",
       "espumas                     0\n",
       "mat_susp                    0\n",
       "colif_fecales_ufc_100ml     1\n",
       "escher_coli_ufc_100ml       1\n",
       "enteroc_ufc_100ml           1\n",
       "nitrato_mg_l                0\n",
       "nh4_mg_l                    0\n",
       "p_total_l_mg_l              0\n",
       "fosf_ortofos_mg_l           0\n",
       "dbo_mg_l                    1\n",
       "dqo_mg_l                    0\n",
       "turbiedad_ntu               0\n",
       "hidr_deriv_petr_ug_l        0\n",
       "cr_total_mg_l               0\n",
       "cd_total_mg_l               0\n",
       "clorofila_a_ug_l            1\n",
       "microcistina_ug_l           0\n",
       "ica                        13\n",
       "calidad_de_agua            14\n",
       "dtype: int64"
      ]
     },
     "execution_count": 11,
     "metadata": {},
     "output_type": "execute_result"
    }
   ],
   "source": [
    "copy_dataset.isna().sum()"
   ]
  },
  {
   "cell_type": "markdown",
   "metadata": {},
   "source": [
    "Pareciera que existen muy pocos nulos, pero vamos a ver que sucede con el \"no se midió\" , asi que vamos a mostrar algunos ejemplos"
   ]
  },
  {
   "cell_type": "code",
   "execution_count": 12,
   "metadata": {},
   "outputs": [
    {
     "data": {
      "text/html": [
       "<div>\n",
       "<style scoped>\n",
       "    .dataframe tbody tr th:only-of-type {\n",
       "        vertical-align: middle;\n",
       "    }\n",
       "\n",
       "    .dataframe tbody tr th {\n",
       "        vertical-align: top;\n",
       "    }\n",
       "\n",
       "    .dataframe thead th {\n",
       "        text-align: right;\n",
       "    }\n",
       "</style>\n",
       "<table border=\"1\" class=\"dataframe\">\n",
       "  <thead>\n",
       "    <tr style=\"text-align: right;\">\n",
       "      <th></th>\n",
       "      <th>sitios</th>\n",
       "      <th>codigo</th>\n",
       "      <th>fecha</th>\n",
       "      <th>campaña</th>\n",
       "      <th>tem_agua</th>\n",
       "      <th>tem_aire</th>\n",
       "      <th>od</th>\n",
       "      <th>ph</th>\n",
       "      <th>olores</th>\n",
       "      <th>color</th>\n",
       "      <th>...</th>\n",
       "      <th>dbo_mg_l</th>\n",
       "      <th>dqo_mg_l</th>\n",
       "      <th>turbiedad_ntu</th>\n",
       "      <th>hidr_deriv_petr_ug_l</th>\n",
       "      <th>cr_total_mg_l</th>\n",
       "      <th>cd_total_mg_l</th>\n",
       "      <th>clorofila_a_ug_l</th>\n",
       "      <th>microcistina_ug_l</th>\n",
       "      <th>ica</th>\n",
       "      <th>calidad_de_agua</th>\n",
       "    </tr>\n",
       "  </thead>\n",
       "  <tbody>\n",
       "    <tr>\n",
       "      <th>10</th>\n",
       "      <td>Espigón La Farola</td>\n",
       "      <td>SI021</td>\n",
       "      <td>23/2/2022</td>\n",
       "      <td>Verano</td>\n",
       "      <td>no se midió</td>\n",
       "      <td>no se midió</td>\n",
       "      <td>no se midió</td>\n",
       "      <td>no se midió</td>\n",
       "      <td>no se midió</td>\n",
       "      <td>no se midió</td>\n",
       "      <td>...</td>\n",
       "      <td>no se midió</td>\n",
       "      <td>no se midió</td>\n",
       "      <td>no se midió</td>\n",
       "      <td>no se midió</td>\n",
       "      <td>no se midió</td>\n",
       "      <td>no se midió</td>\n",
       "      <td>no se midió</td>\n",
       "      <td>no se midió</td>\n",
       "      <td>NaN</td>\n",
       "      <td>NaN</td>\n",
       "    </tr>\n",
       "    <tr>\n",
       "      <th>12</th>\n",
       "      <td>Playa Espigón de Pacheco</td>\n",
       "      <td>SI024</td>\n",
       "      <td>23/2/2022</td>\n",
       "      <td>Verano</td>\n",
       "      <td>26.5</td>\n",
       "      <td>27</td>\n",
       "      <td>5.3</td>\n",
       "      <td>7.49</td>\n",
       "      <td>Ausencia</td>\n",
       "      <td>Ausencia</td>\n",
       "      <td>...</td>\n",
       "      <td>no se midió</td>\n",
       "      <td>no se midió</td>\n",
       "      <td>no se midió</td>\n",
       "      <td>no se midió</td>\n",
       "      <td>no se midió</td>\n",
       "      <td>no se midió</td>\n",
       "      <td>no se midió</td>\n",
       "      <td>no se midió</td>\n",
       "      <td>NaN</td>\n",
       "      <td>NaN</td>\n",
       "    </tr>\n",
       "    <tr>\n",
       "      <th>17</th>\n",
       "      <td>Parque de los Niños</td>\n",
       "      <td>CA041</td>\n",
       "      <td>23/2/2022</td>\n",
       "      <td>Verano</td>\n",
       "      <td>26.1</td>\n",
       "      <td>no se midió</td>\n",
       "      <td>4.8</td>\n",
       "      <td>7.4</td>\n",
       "      <td>Ausencia</td>\n",
       "      <td>Ausencia</td>\n",
       "      <td>...</td>\n",
       "      <td>no se midió</td>\n",
       "      <td>29</td>\n",
       "      <td>22</td>\n",
       "      <td>no se midió</td>\n",
       "      <td>&lt;0.005</td>\n",
       "      <td>&lt;0.002</td>\n",
       "      <td>no se midió</td>\n",
       "      <td>no se midió</td>\n",
       "      <td>54</td>\n",
       "      <td>Muy deteriorada</td>\n",
       "    </tr>\n",
       "    <tr>\n",
       "      <th>27</th>\n",
       "      <td>Náutico 400 m</td>\n",
       "      <td>QU062</td>\n",
       "      <td>23/2/2022</td>\n",
       "      <td>Verano</td>\n",
       "      <td>24</td>\n",
       "      <td>23</td>\n",
       "      <td>9.59</td>\n",
       "      <td>7.94</td>\n",
       "      <td>Ausencia</td>\n",
       "      <td>Ausencia</td>\n",
       "      <td>...</td>\n",
       "      <td>no se midió</td>\n",
       "      <td>29</td>\n",
       "      <td>26</td>\n",
       "      <td>&lt;0.10</td>\n",
       "      <td>&lt;0.005</td>\n",
       "      <td>&lt;0.001</td>\n",
       "      <td>28</td>\n",
       "      <td>1</td>\n",
       "      <td>48</td>\n",
       "      <td>Muy deteriorada</td>\n",
       "    </tr>\n",
       "    <tr>\n",
       "      <th>30</th>\n",
       "      <td>Puerto Trinidad calle 47</td>\n",
       "      <td>BZ077</td>\n",
       "      <td>23/2/2022</td>\n",
       "      <td>Verano</td>\n",
       "      <td>no se midió</td>\n",
       "      <td>no se midió</td>\n",
       "      <td>no se midió</td>\n",
       "      <td>no se midió</td>\n",
       "      <td>no se midió</td>\n",
       "      <td>no se midió</td>\n",
       "      <td>...</td>\n",
       "      <td>no se midió</td>\n",
       "      <td>no se midió</td>\n",
       "      <td>no se midió</td>\n",
       "      <td>no se midió</td>\n",
       "      <td>no se midió</td>\n",
       "      <td>no se midió</td>\n",
       "      <td>no se midió</td>\n",
       "      <td>no se midió</td>\n",
       "      <td>NaN</td>\n",
       "      <td>NaN</td>\n",
       "    </tr>\n",
       "  </tbody>\n",
       "</table>\n",
       "<p>5 rows × 29 columns</p>\n",
       "</div>"
      ],
      "text/plain": [
       "                      sitios codigo      fecha campaña     tem_agua  \\\n",
       "10         Espigón La Farola  SI021  23/2/2022  Verano  no se midió   \n",
       "12  Playa Espigón de Pacheco  SI024  23/2/2022  Verano         26.5   \n",
       "17       Parque de los Niños  CA041  23/2/2022  Verano         26.1   \n",
       "27             Náutico 400 m  QU062  23/2/2022  Verano           24   \n",
       "30  Puerto Trinidad calle 47  BZ077  23/2/2022  Verano  no se midió   \n",
       "\n",
       "       tem_aire           od           ph       olores        color  ...  \\\n",
       "10  no se midió  no se midió  no se midió  no se midió  no se midió  ...   \n",
       "12           27          5.3         7.49     Ausencia     Ausencia  ...   \n",
       "17  no se midió          4.8          7.4     Ausencia     Ausencia  ...   \n",
       "27           23         9.59         7.94     Ausencia     Ausencia  ...   \n",
       "30  no se midió  no se midió  no se midió  no se midió  no se midió  ...   \n",
       "\n",
       "       dbo_mg_l     dqo_mg_l turbiedad_ntu hidr_deriv_petr_ug_l cr_total_mg_l  \\\n",
       "10  no se midió  no se midió   no se midió          no se midió   no se midió   \n",
       "12  no se midió  no se midió   no se midió          no se midió   no se midió   \n",
       "17  no se midió           29            22          no se midió        <0.005   \n",
       "27  no se midió           29            26                <0.10        <0.005   \n",
       "30  no se midió  no se midió   no se midió          no se midió   no se midió   \n",
       "\n",
       "   cd_total_mg_l clorofila_a_ug_l microcistina_ug_l  ica  calidad_de_agua  \n",
       "10   no se midió      no se midió       no se midió  NaN              NaN  \n",
       "12   no se midió      no se midió       no se midió  NaN              NaN  \n",
       "17        <0.002      no se midió       no se midió   54  Muy deteriorada  \n",
       "27        <0.001               28                 1   48  Muy deteriorada  \n",
       "30   no se midió      no se midió       no se midió  NaN              NaN  \n",
       "\n",
       "[5 rows x 29 columns]"
      ]
     },
     "execution_count": 12,
     "metadata": {},
     "output_type": "execute_result"
    }
   ],
   "source": [
    "copy_dataset[copy_dataset[\"dbo_mg_l\"] == \"no se midió\"].head()"
   ]
  },
  {
   "cell_type": "markdown",
   "metadata": {},
   "source": [
    "Como pudimos ver hay muchisimos \"no se midió\" que representa NA, entonces vamos a convertir para todas las columnas\n",
    "el \"no se midió\" y las distintas variantes a NA"
   ]
  },
  {
   "cell_type": "code",
   "execution_count": 13,
   "metadata": {},
   "outputs": [],
   "source": [
    "lista_columnas = copy_dataset.columns\n",
    "\n",
    "for col in lista_columnas:\n",
    "    copy_dataset[col] = copy_dataset[col].replace(['no midieron este día', 'no se midió', 'no se determinó','No se midió',\n",
    "                                                   'no midio la sonda','NA'], pd.NA)"
   ]
  },
  {
   "cell_type": "markdown",
   "metadata": {},
   "source": [
    "Una vez pasado todos los valores a NA vamos a contar cuantos NA tenemos por cada variable"
   ]
  },
  {
   "cell_type": "code",
   "execution_count": 14,
   "metadata": {},
   "outputs": [
    {
     "data": {
      "text/plain": [
       "sitios                      0\n",
       "codigo                      0\n",
       "fecha                       5\n",
       "campaña                     5\n",
       "tem_agua                   23\n",
       "tem_aire                   24\n",
       "od                         36\n",
       "ph                         28\n",
       "olores                     13\n",
       "color                      13\n",
       "espumas                    13\n",
       "mat_susp                   13\n",
       "colif_fecales_ufc_100ml    15\n",
       "escher_coli_ufc_100ml      15\n",
       "enteroc_ufc_100ml          15\n",
       "nitrato_mg_l               14\n",
       "nh4_mg_l                   14\n",
       "p_total_l_mg_l             21\n",
       "fosf_ortofos_mg_l          14\n",
       "dbo_mg_l                   58\n",
       "dqo_mg_l                   14\n",
       "turbiedad_ntu              14\n",
       "hidr_deriv_petr_ug_l       18\n",
       "cr_total_mg_l              17\n",
       "cd_total_mg_l              17\n",
       "clorofila_a_ug_l           18\n",
       "microcistina_ug_l          18\n",
       "ica                        14\n",
       "calidad_de_agua            14\n",
       "dtype: int64"
      ]
     },
     "execution_count": 14,
     "metadata": {},
     "output_type": "execute_result"
    }
   ],
   "source": [
    "copy_dataset.isna().sum()"
   ]
  },
  {
   "cell_type": "code",
   "execution_count": 15,
   "metadata": {},
   "outputs": [
    {
     "data": {
      "text/plain": [
       "sitios                     0.000000\n",
       "codigo                     0.000000\n",
       "fecha                      0.029762\n",
       "campaña                    0.029762\n",
       "tem_agua                   0.136905\n",
       "tem_aire                   0.142857\n",
       "od                         0.214286\n",
       "ph                         0.166667\n",
       "olores                     0.077381\n",
       "color                      0.077381\n",
       "espumas                    0.077381\n",
       "mat_susp                   0.077381\n",
       "colif_fecales_ufc_100ml    0.089286\n",
       "escher_coli_ufc_100ml      0.089286\n",
       "enteroc_ufc_100ml          0.089286\n",
       "nitrato_mg_l               0.083333\n",
       "nh4_mg_l                   0.083333\n",
       "p_total_l_mg_l             0.125000\n",
       "fosf_ortofos_mg_l          0.083333\n",
       "dbo_mg_l                   0.345238\n",
       "dqo_mg_l                   0.083333\n",
       "turbiedad_ntu              0.083333\n",
       "hidr_deriv_petr_ug_l       0.107143\n",
       "cr_total_mg_l              0.101190\n",
       "cd_total_mg_l              0.101190\n",
       "clorofila_a_ug_l           0.107143\n",
       "microcistina_ug_l          0.107143\n",
       "ica                        0.083333\n",
       "calidad_de_agua            0.083333\n",
       "dtype: float64"
      ]
     },
     "execution_count": 15,
     "metadata": {},
     "output_type": "execute_result"
    }
   ],
   "source": [
    "copy_dataset.isna().sum() / copy_dataset.shape[0]"
   ]
  },
  {
   "cell_type": "markdown",
   "metadata": {},
   "source": [
    "Además vemos que ninguna variable tiene más del 50% de valores faltantes, por ende no eliminaremos ninguna variable "
   ]
  },
  {
   "cell_type": "markdown",
   "metadata": {},
   "source": [
    "Se eliminaran todas aquellas observaciones que contengan 14 o mas atributos con valores NA, ya que no nos aportara mucha informacion"
   ]
  },
  {
   "cell_type": "code",
   "execution_count": 16,
   "metadata": {},
   "outputs": [],
   "source": [
    "copy_dataset = copy_dataset.dropna(thresh=14)"
   ]
  },
  {
   "cell_type": "markdown",
   "metadata": {},
   "source": [
    "A continuacion estamos mostrando aquellas observaciones donde en la columna microcistina_ug_l se encuentran valores que deberian ser numericos, pero son de tipo object, porque hay texto combinado con numeros. Observamos que hay esto sucede en reiteradas ocasiones."
   ]
  },
  {
   "cell_type": "code",
   "execution_count": 17,
   "metadata": {},
   "outputs": [
    {
     "data": {
      "text/plain": [
       "sitios                                 codigo  fecha      campaña   tem_agua  tem_aire  od     ph    olores     color      espumas   mat_susp   colif_fecales_ufc_100ml  escher_coli_ufc_100ml  enteroc_ufc_100ml  nitrato_mg_l  nh4_mg_l  p_total_l_mg_l  fosf_ortofos_mg_l  dbo_mg_l  dqo_mg_l  turbiedad_ntu  hidr_deriv_petr_ug_l  cr_total_mg_l  cd_total_mg_l  clorofila_a_ug_l  microcistina_ug_l  ica  calidad_de_agua           \n",
       "Arroyo Abra Vieja y Santa Rosa         TI009   23/8/2022  invierno  15.6      15        8.68   7.13  Ausencia   Ausencia   Ausencia  Ausencia   3200                     2                      250                2.4           0.11      0.12            0.12               <2.0      <30       33              <0.10                <0.005         <0.001         200                <0.15             51   Muy deteriorada               1\n",
       "Arroyo El Gato                         EN083   23/8/2022  invierno  12.8      9         2.49   8.01  Ausencia   Ausencia   Ausencia  Ausencia   192000                   60                     24                 2             22        1.2             1.2                18        <30       8,6             <0.10                <0.005         <0.001         1960               <0.15             32   Extremadamente deteriorada    1\n",
       "Arroyo Santo Domingo                   AV053   23/8/2022  invierno  16.6      14        5.36   7.66  Ausente    Ausente    Ausente   Ausente    92000                    6                      610                10.8          4.1       0.27            0.27               6.5       <30       13              <0.10                0.005          <0.001         310                <0.15             37   Extremadamente deteriorada    1\n",
       "Arroyo Sarandí                         AV052   23/8/2022  invierno  14.6      14        5.36   7.48  Ausente    Ausente    Ausente   Ausente    40000                    5                      670                13.3          2         0.34            0.34               5         <30       28              <0.10                0.0051         <0.001         220                <0.15             38   Extremadamente deteriorada    1\n",
       "Calle 14 y Costa - Salida cloaca       BZ078   23/8/2022  invierno  11.01     17        10.01  6.37  Ausencia   Ausencia   Ausencia  Ausencia   100000                   13                     2                  8.5           5.2       0.62            0.62               14        <30       10              <0.10                0.0064         <0.001         1400               <0.15             33   Extremadamente deteriorada    1\n",
       "Canal Aliviador y Río Lujan            TI002   23/8/2022  invierno  14.4      14        0.45   7.14  Presencia  Ausencia   Ausencia  Ausencia   4200000                  186                    11                 <2.0          23        2.8             2.6                42        75        13              <0.10                0.0095         <0.001         <10                <0.15             29   Extremadamente deteriorada    1\n",
       "Canal Villanueva y Río Luján           TI001   23/8/2022  invierno  13.8      14        8.61   7.06  Ausencia   Ausencia   Ausencia  Ausencia   900                      80                     90                 2.1           23        0.14            0.14               <2.0      <30       22              <0.10                <0.005         <0.001         <10                <0.15             49   Muy deteriorada               1\n",
       "Costa de Villa Domínico                AV055   23/8/2022  invierno  15.7      14        5.07   7.55  Ausente    Ausente    Ausente   Ausente    70000                    6                      600                12.6          3.1       0.42            0.42               5         <30       12              <0.10                0.0061         <0.001         1270               <0.15             37   Extremadamente deteriorada    1\n",
       "Costa y Melo                           VL031   23/8/2022  invierno  13.1      15        10.43  8.02  Ausencia   Ausencia   Ausencia  Ausencia   160000                   4                      2                  16.4          0.22      0.42            0.42               5.6       <30       12              <0.10                <0.005         <0.001         <10                <0.15             38   Extremadamente deteriorada    1\n",
       "Costanera Hudson Calle 63              BZ080   23/8/2022  invierno  15.1      15.2      11.82  8.37  Ausencia   Ausencia   Ausencia  Ausencia   58000                    500                    80                 12.2          1.5       0.36            0.36               9         <30       14              <0.10                <0.005         <0.001         2500               <0.15             38   Extremadamente deteriorada    1\n",
       "Del Arca                               SF015   23/8/2022  invierno  16.3      16        5.7    5     Ausencia   Ausencia   Ausencia  Ausencia   740000                   15                     5                  8.7           3.1       0.47            0.47               10        <30       19              <0.10                <0.005         <0.001         930                <0.15             34   Extremadamente deteriorada    1\n",
       "Ensenada Prefectura Isla Santiago      EN084   23/8/2022  invierno  12.7      9         9      8.23  Ausencia   Ausencia   Ausencia  Ausencia   3000                     720                    250                14.8          1.9       0.15            0.15               5.1       <30       7,3             <0.10                <0.005         <0.001         1290               <0.15             46   Muy deteriorada               1\n",
       "Escollera de Propaneros                AV054   23/8/2022  invierno  15.03     14        3.09   7.23  Ausente    Ausente    Ausente   Ausente    120000                   6                      660                13            3.3       0.54            0.54               6.8       <30       25              <0.10                0.011          <0.001         870                <0.15             35   Extremadamente deteriorada    1\n",
       "Espora 400 m                           QU061   23/8/2022  invierno  14.2      14        6.21   7.12  Ausencia   Ausencia   Ausencia  Ausencia   16000                    130                    100                13.5          3.9       0.63            0.62               7.3       <30       7,5             <0.10                0.0069         <0.001         <10                <0.15             42   Extremadamente deteriorada    1\n",
       "Náutico 400 m                          QU062   23/8/2022  invierno  14.3      14        5.77   7.16  Presencia  Ausencia   Ausencia  Presencia  27000                    430                    100                7.7           3.8       0.57            0.46               11        <30       17              <0.10                0.0079         <0.001         <10                <0.15             33   Extremadamente deteriorada    1\n",
       "Pejerrey Club 400 m                    QU063   23/8/2022  invierno  13.4      14        8.05   7.29  Ausencia   Ausencia   Ausencia  Ausencia   50000                    3                      380                16.3          1.1       0.51            0.39               11        <30       27              <0.10                0.0082         <0.001         760                <0.15             36   Extremadamente deteriorada    1\n",
       "Polo Petroquímico Dock Sud             AV051   23/8/2022  invierno  14.06     14        6.19   7.51  Ausente    Ausente    Ausente   Ausente    40000                    3                      600                12.6          1.5       0.31            0.31               3.7       <30       50              <0.10                <0.005         <0.001         250                <0.15             38   Extremadamente deteriorada    1\n",
       "Puerto Trinidad calle 47               BZ077   23/8/2022  invierno  10.01     16        10.22  8.22  Presencia  Ausencia   Ausencia  Presencia  20000                    290                    50                 12.2          1.9       0.4             0.4                12        <30       13              <0.10                <0.005         <0.001         2130               <0.15             33   Extremadamente deteriorada    1\n",
       "Puerto de Olivos Espigón               VL032   23/8/2022  invierno  16.1      17        9.82   7.76  Ausencia   Ausencia   Ausencia  Ausencia   40000                    1                      450                12.8          0.95      0.32            0.32               12        36        16              <0.10                <0.005         <0.001         740                <0.15             37   Extremadamente deteriorada    1\n",
       "Reserva Barrio El Ceibo                VL033   23/8/2022  invierno  17.1      17        9.87   7.99  Ausencia   Ausencia   Ausencia  Ausencia   13000                    6                      2                  20.6          0.49      <0.10           0.42               6.5       <30       12              <0.10                <0.005         <0.001         <10                <0.15             42   Extremadamente deteriorada    1\n",
       "Rio Tigre 100m antes del Rio Luján     TI005   23/8/2022  invierno  14.3      13        0.36   6.88  Ausencia   Ausencia   Ausencia  Presencia  1070000                  560                    27                 2             22        1.9             0.28               <2.0      <30       33              0.20                 0.011          <0.001         <10                <0.15             32   Extremadamente deteriorada    1\n",
       "Río Capitán y Río San Antonio          TI008   23/8/2022  invierno  15.6      17        9.48   7.25  Ausencia   Ausencia   Ausencia  Ausencia   560                      930                    730                3.7           0.1       <0.10           <0.10              <2.0      <30       23              <0.10                <0.005         <0.001         <10                <0.15             53   Muy deteriorada               1\n",
       "Río Carapachay y Arroyo Gallo Fiambre  TI003   23/8/2022  invierno  12.7      13        8.18   7.09  Ausencia   Ausencia   Ausencia  Ausencia   3000                     100                    580                2.6           0.28      0.13            0.13               <2.0      <30       32              <0.10                <0.005         <0.001         <10                <0.15             53   Muy deteriorada               1\n",
       "Río Lujan y Arroyo Caraguatá           TI006   23/8/2022  invierno  13.3      13        7.5    7.08  Ausencia   Ausencia   Ausencia  Ausencia   10000                    600                    300                3             0.44      0.11            0.11               <2.0      <30       30              <0.10                <0.005         <0.001         <10                <0.15             46   Muy deteriorada               1\n",
       "Río Lujan y Canal San Fernando         TI007   23/8/2022  invierno  16.5      15        1.13   7.12  Presencia  Presencia  Ausencia  Ausencia   240000                   90                     9                  <2.0          9.3       0.86            0.86               14        <30       6,1             <0.10                <5.0           <0.001         <10                <0.15             25   Extremadamente deteriorada    1\n",
       "Río Reconquista y Río Lujan            TI004   23/8/2022  invierno  13.5      13        2.17   6.92  Ausencia   Ausencia   Ausencia  Ausencia   76000                    9                      780                3.3           5         0.49            0.49               6.8       <30       6               0.10                 <0.005         <0.001         <10                <0.15             35   Extremadamente deteriorada    1\n",
       "Name: count, dtype: int64"
      ]
     },
     "execution_count": 17,
     "metadata": {},
     "output_type": "execute_result"
    }
   ],
   "source": [
    "copy_dataset[copy_dataset[\"microcistina_ug_l\"] == \" <0.15\"].value_counts()"
   ]
  },
  {
   "cell_type": "markdown",
   "metadata": {},
   "source": [
    "Para las siguientes columnas fue necesario quitar el string \"<\" y \" <\"(este caracter es el denominado NBSP)"
   ]
  },
  {
   "cell_type": "code",
   "execution_count": 18,
   "metadata": {},
   "outputs": [],
   "source": [
    "columnas = [\n",
    "    \"nh4_mg_l\",\n",
    "    \"p_total_l_mg_l\",\n",
    "    \"fosf_ortofos_mg_l\",\n",
    "    \"dbo_mg_l\",\n",
    "    \"dqo_mg_l\",\n",
    "    \"turbiedad_ntu\",\n",
    "    \"hidr_deriv_petr_ug_l\",\n",
    "    \"cr_total_mg_l\",\n",
    "    \"cd_total_mg_l\",\n",
    "    \"clorofila_a_ug_l\",\n",
    "    \"microcistina_ug_l\"\n",
    "]\n",
    "for col in columnas:\n",
    "    copy_dataset[col] = copy_dataset[col].str.strip(\"<\")\n",
    "    copy_dataset[col] = copy_dataset[col].str.strip(\" <\")"
   ]
  },
  {
   "cell_type": "markdown",
   "metadata": {},
   "source": [
    "Ahora veamos la variable \"cd_total_mg_l\" y notaremos que a pesar de quitar el \"<\" el tipo de dato no cambio, sigue siendo de tipo object"
   ]
  },
  {
   "cell_type": "code",
   "execution_count": 19,
   "metadata": {},
   "outputs": [
    {
     "data": {
      "text/plain": [
       "sitios                          codigo  fecha      campaña   tem_agua  tem_aire  od    ph    olores     color     espumas   mat_susp   colif_fecales_ufc_100ml  escher_coli_ufc_100ml  enteroc_ufc_100ml  nitrato_mg_l  nh4_mg_l  p_total_l_mg_l  fosf_ortofos_mg_l  dbo_mg_l  dqo_mg_l  turbiedad_ntu  hidr_deriv_petr_ug_l  cr_total_mg_l  cd_total_mg_l  clorofila_a_ug_l  microcistina_ug_l  ica  calidad_de_agua           \n",
       "Arroyo Abra Vieja y Santa Rosa  TI009   23/2/2022  Verano    23.4      21        4.49  6.76  Ausencia   Ausencia  Ausencia  Ausencia   400                      100                    220                1.9           0.1       0.21            0.19               1.9       29        39             0.10                  0.005          0.001          10                0.20               58   Muy deteriorada               1\n",
       "                                        23/8/2022  invierno  15.6      15        8.68  7.13  Ausencia   Ausencia  Ausencia  Ausencia   3200                     2                      250                2.4           0.11      0.12            0.12               2.0       30        33             0.10                  0.005          0.001          200               0.15               51   Muy deteriorada               1\n",
       "                                        4/5/2022   otoño     18.5      16        7.85  7.32  Ausencia   Ausencia  Ausencia  Ausencia   2200                     50                     50                 2.6           0.05      0.13            0.11               2.0       58        65             0.10                  0.005          0.001          10                0.15               61   Muy deteriorada               1\n",
       "Arroyo El Gato                  EN083   23/2/2022  Verano    24.2      27        3.54  7.76  Ausencia   Ausencia  Ausencia  Ausencia   5000                     400                    850                13.1          0.049     0.33            0.21               7.4       29        12             0.10                  0.005          0.001          10                0.20               46   Muy deteriorada               1\n",
       "                                        23/8/2022  invierno  12.8      9         2.49  8.01  Ausencia   Ausencia  Ausencia  Ausencia   192000                   60                     24                 2             22        1.2             1.2                18        30        8,6            0.10                  0.005          0.001          1960              0.15               32   Extremadamente deteriorada    1\n",
       "                                                                                                                                                                                                                                                                                                                                                                                                                                   ..\n",
       "Río Reconquista y Río Lujan     TI004   23/8/2022  invierno  13.5      13        2.17  6.92  Ausencia   Ausencia  Ausencia  Ausencia   76000                    9                      780                3.3           5         0.49            0.49               6.8       30        6              0.10                  0.005          0.001          10                0.15               35   Extremadamente deteriorada    1\n",
       "                                        4/5/2022   otoño     18.2      16        4.9   6.85  Presencia  Ausencia  Ausencia  Presencia  28000                    5200                   460                8.5           0.25      0.71            0.35               3.6       67        70             0.10                  0.01           0.001          10                0.15               37   Extremadamente deteriorada    1\n",
       "Toma de agua Club de Pesca      EN082   23/2/2022  Verano    24.7      27        7.17  8.11  Ausencia   Ausencia  Ausencia  Ausencia   750                      300                    130                6.3           0.049     0.35            0.24               1.9       29        34             0.10                  0.005          0.001          13.4              0.20               56   Muy deteriorada               1\n",
       "                                        23/8/2022  invierno  13        10        8.14  8.14  Ausencia   Ausencia  Ausencia  Ausencia   4000                     110                    113                14.4          0.33      0.26            0.26               6.5       30        18             0.10                  0.005          0.001          4650              0.25               45   Muy deteriorada               1\n",
       "                                        4/5/2022   otoño     14.3      8         8.57  8.09  Ausencia   Ausencia  Ausencia  Ausencia   500                      20                     10                 8.4           0.05      0.23            0.17               2.0       64        55             0.10                  0.005          0.001          120               0.15               64   Muy deteriorada               1\n",
       "Name: count, Length: 84, dtype: int64"
      ]
     },
     "execution_count": 19,
     "metadata": {},
     "output_type": "execute_result"
    }
   ],
   "source": [
    "copy_dataset[copy_dataset[\"cd_total_mg_l\"] == \"0.001\"].value_counts()"
   ]
  },
  {
   "cell_type": "markdown",
   "metadata": {},
   "source": [
    "Entonces para esta variable en particular vamos a realizar un mapeo para sustituir el tipo string a tipo entero"
   ]
  },
  {
   "cell_type": "code",
   "execution_count": 20,
   "metadata": {},
   "outputs": [
    {
     "name": "stdout",
     "output_type": "stream",
     "text": [
      "<class 'pandas.core.series.Series'>\n",
      "Index: 154 entries, 0 to 167\n",
      "Series name: cd_total_mg_l\n",
      "Non-Null Count  Dtype  \n",
      "--------------  -----  \n",
      "151 non-null    float64\n",
      "dtypes: float64(1)\n",
      "memory usage: 2.4 KB\n"
     ]
    }
   ],
   "source": [
    "mgl_map = {\n",
    "    \"0.001\":0.001,\n",
    "    \"0.002\":0.002\n",
    "}\n",
    "copy_dataset[\"cd_total_mg_l\"] = copy_dataset[\"cd_total_mg_l\"].map(mgl_map)\n",
    "copy_dataset[\"cd_total_mg_l\"].info()"
   ]
  },
  {
   "cell_type": "markdown",
   "metadata": {},
   "source": [
    "Para la variable calidad_de_agua hicimos una transformacion ordinal encoding, donde cada valor unico de una caracteristica se mapea a un entero, tratando de ser lo mas cuidadoso para preservar el orden natural"
   ]
  },
  {
   "cell_type": "code",
   "execution_count": 21,
   "metadata": {},
   "outputs": [],
   "source": [
    "niveles_deterioro = {\n",
    "    \"Deteriorada\" : 1,\n",
    "    \"Muy deteriorada\" : 2,\n",
    "    \"Extremadamente deteriorada\" : 3\n",
    "}\n",
    "\n",
    "copy_dataset[\"calidad_de_agua\"] = copy_dataset[\"calidad_de_agua\"].map(niveles_deterioro)"
   ]
  },
  {
   "cell_type": "markdown",
   "metadata": {},
   "source": [
    "Para las siguientes variables continuaremos con un tipo de mapeo dicotomico"
   ]
  },
  {
   "cell_type": "code",
   "execution_count": 22,
   "metadata": {},
   "outputs": [],
   "source": [
    "mapeo_dicotomico = {\n",
    "    \"Ausencia\" : 0,\n",
    "    \"Ausente\" : 0,\n",
    "    \"ausencia\" : 0,\n",
    "    \"presencia\" : 1,\n",
    "    \"Presencia\" : 1\n",
    "}\n",
    "\n",
    "copy_dataset[\"olores\"] = copy_dataset[\"olores\"].map(mapeo_dicotomico)\n",
    "copy_dataset[\"color\"] = copy_dataset[\"color\"].map(mapeo_dicotomico)\n",
    "copy_dataset[\"espumas\"] = copy_dataset[\"espumas\"].map(mapeo_dicotomico)\n",
    "copy_dataset[\"mat_susp\"] = copy_dataset[\"mat_susp\"].map(mapeo_dicotomico)"
   ]
  },
  {
   "cell_type": "markdown",
   "metadata": {},
   "source": [
    "A continuacion vamos a cambiar dos valores de la variable \"fecha\", ya que la fecha de la medicion se cargo como \"31/10/0202\" cuando en realidad intumos que se quiso cargar \"31/10/2022\" debido a que todas las muestras fueron realizadas en dicho año"
   ]
  },
  {
   "cell_type": "code",
   "execution_count": 23,
   "metadata": {},
   "outputs": [
    {
     "data": {
      "text/plain": [
       "fecha\n",
       "4/5/2022      41\n",
       "23/2/2022     39\n",
       "23/8/2022     37\n",
       "31/10/2022    37\n",
       "Name: count, dtype: int64"
      ]
     },
     "execution_count": 23,
     "metadata": {},
     "output_type": "execute_result"
    }
   ],
   "source": [
    "copy_dataset[\"fecha\"] = copy_dataset[\"fecha\"].replace(\"31/10/0202\", \"31/10/2022\")\n",
    "copy_dataset[\"fecha\"].value_counts()"
   ]
  },
  {
   "cell_type": "markdown",
   "metadata": {},
   "source": [
    "Para tratar los NA vamos a operar con todas las columnas que lo posean, a traves de una serie de pasos\n",
    "1_Convertir todas las variables a tipo numerico, exceptuando los NA(aquellos que no puedan convertirse, como los NA, seran convertidos a NAN)\n",
    "2_Calcularemos la mediana para cada estacion del año\n",
    "3_Con la funcion fillna, Asignaremos la mediana de cada estacion a los valores NAN en funcion de la columna a la que pertenezca\n",
    "\n",
    "Decidimos hacer imputacion por mediana y por estacion, para mantener la distribucion de los datos lo mas equilibrada posible."
   ]
  },
  {
   "cell_type": "code",
   "execution_count": 24,
   "metadata": {},
   "outputs": [
    {
     "name": "stderr",
     "output_type": "stream",
     "text": [
      "c:\\Users\\Matias\\Desktop\\TP ESPECIAL - CIENCIA DE DATOS\\practicoespecialvenv\\Lib\\site-packages\\numpy\\lib\\_nanfunctions_impl.py:1241: RuntimeWarning: Mean of empty slice\n",
      "  return np.nanmean(a, axis, out=out, keepdims=keepdims)\n"
     ]
    }
   ],
   "source": [
    "columnas = [\n",
    "    \"tem_agua\",\n",
    "    \"tem_aire\",\n",
    "    \"od\",\n",
    "    \"ph\",\n",
    "    \"colif_fecales_ufc_100ml\",\n",
    "    \"escher_coli_ufc_100ml\",\n",
    "    \"enteroc_ufc_100ml\",\n",
    "    \"nitrato_mg_l\",\n",
    "    \"nh4_mg_l\",\n",
    "    \"p_total_l_mg_l\",\n",
    "    \"fosf_ortofos_mg_l\",\n",
    "    \"dbo_mg_l\",\n",
    "    \"dqo_mg_l\",\n",
    "    \"turbiedad_ntu\",\n",
    "    \"hidr_deriv_petr_ug_l\",\n",
    "    \"cr_total_mg_l\",\n",
    "    \"cd_total_mg_l\",\n",
    "    \"clorofila_a_ug_l\",\n",
    "    \"microcistina_ug_l\",\n",
    "    \"ica\"\n",
    "]\n",
    "for col in columnas:\n",
    "    copy_dataset[col] = pd.to_numeric(copy_dataset[col], errors= 'coerce')\n",
    "    \n",
    "    median_verano = copy_dataset.loc[copy_dataset[\"campaña\"] == \"Verano\", col].median()\n",
    "    median_invierno = copy_dataset.loc[copy_dataset[\"campaña\"] == \"invierno\", col].median()\n",
    "    median_otoño = copy_dataset.loc[copy_dataset[\"campaña\"] == \"otoño\", col].median()\n",
    "    median_primavera = copy_dataset.loc[copy_dataset[\"campaña\"] == \"Primavera\", col].median()\n",
    "    \n",
    "    copy_dataset.loc[(copy_dataset['campaña'] == 'Verano') & (copy_dataset[col].isna()), col] = median_verano\n",
    "    copy_dataset.loc[(copy_dataset['campaña'] == 'invierno') & (copy_dataset[col].isna()), col] = median_invierno\n",
    "    copy_dataset.loc[(copy_dataset['campaña'] == 'Primavera') & (copy_dataset[col].isna()), col] = median_primavera\n",
    "    copy_dataset.loc[(copy_dataset['campaña'] == 'otoño') & (copy_dataset[col].isna()), col]=median_otoño"
   ]
  },
  {
   "cell_type": "markdown",
   "metadata": {},
   "source": [
    "Vemos que devolvio una advertencia, lo que indica que para alguna columna no pudo calcular la mediana. indagamos un poco mas y es la columna \"dbo_mg_l\""
   ]
  },
  {
   "cell_type": "code",
   "execution_count": 25,
   "metadata": {},
   "outputs": [
    {
     "name": "stdout",
     "output_type": "stream",
     "text": [
      "                                    sitios    codigo       fecha    campaña  \\\n",
      "126           Canal Villanueva y Río Luján     TI001  31/10/2022  Primavera   \n",
      "127           Río Lujan y Arroyo Caraguatá     TI006  31/10/2022  Primavera   \n",
      "128            Canal Aliviador y Río Lujan     TI002  31/10/2022  Primavera   \n",
      "129  Río Carapachay y Arroyo Gallo Fiambre     TI003  31/10/2022  Primavera   \n",
      "130            Río Reconquista y Río Lujan     TI004  31/10/2022  Primavera   \n",
      "131     Rio Tigre 100m antes del Rio Luján     TI005  31/10/2022  Primavera   \n",
      "132         Río Lujan y Canal San Fernando     TI007  31/10/2022  Primavera   \n",
      "133          Río Capitán y Río San Antonio     TI008  31/10/2022  Primavera   \n",
      "134         Arroyo Abra Vieja y Santa Rosa     TI009  31/10/2022  Primavera   \n",
      "135                               Del Arca     SF015  31/10/2022  Primavera   \n",
      "137                      Reserva Ecológica     SI022  31/10/2022  Primavera   \n",
      "138               Playa Espigón de Pacheco     SI024  31/10/2022  Primavera   \n",
      "139                            Perú Puente     SI023  31/10/2022  Primavera   \n",
      "140                Reserva Barrio El Ceibo     VL033  31/10/2022  Primavera   \n",
      "141               Puerto de Olivos Espigón     VL032  31/10/2022  Primavera   \n",
      "142                           Costa y Melo     VL031  31/10/2022  Primavera   \n",
      "147                Escollera de Propaneros     AV054  31/10/2022  Primavera   \n",
      "148             Polo Petroquímico Dock Sud     AV051  31/10/2022  Primavera   \n",
      "149                         Arroyo Sarandí     AV052  31/10/2022  Primavera   \n",
      "150                Costa de Villa Domínico     AV055  31/10/2022  Primavera   \n",
      "151                   Arroyo Santo Domingo     AV053  31/10/2022  Primavera   \n",
      "152                           Espora 400 m     QU061  31/10/2022  Primavera   \n",
      "153                          Náutico 400 m     QU062  31/10/2022  Primavera   \n",
      "154                    Pejerrey Club 400 m     QU063  31/10/2022  Primavera   \n",
      "155       Calle 14 y Costa - Salida cloaca     BZ078  31/10/2022  Primavera   \n",
      "156               Puerto Trinidad calle 47     BZ077  31/10/2022  Primavera   \n",
      "157              Costanera Hudson Calle 63     BZ080  31/10/2022  Primavera   \n",
      "158     Boca Cerrada (Res.Nat. Punta Lara)  EN-extra  31/10/2022  Primavera   \n",
      "159                      Camping Eva Perón     EN081  31/10/2022  Primavera   \n",
      "160             Toma de agua Club de Pesca     EN082  31/10/2022  Primavera   \n",
      "161                         Arroyo El Gato     EN083  31/10/2022  Primavera   \n",
      "162      Ensenada Prefectura Isla Santiago     EN084  31/10/2022  Primavera   \n",
      "163                  Balneario Palo Blanco     BS092  31/10/2022  Primavera   \n",
      "164          Diagonal 66 (descarga cloaca)     BS095  31/10/2022  Primavera   \n",
      "165                     Playa La Bagliardi     BS091  31/10/2022  Primavera   \n",
      "166                    Balneario Municipal     BS094  31/10/2022  Primavera   \n",
      "167                      Playa La Balandra     BS093  31/10/2022  Primavera   \n",
      "\n",
      "     tem_agua  tem_aire     od   ph  olores  color  ...  dbo_mg_l  dqo_mg_l  \\\n",
      "126     21.50      15.0   8.30  7.0       0      0  ...       NaN        30   \n",
      "127     20.90      15.0   6.43  7.0       0      0  ...       NaN        30   \n",
      "128     20.40      14.0   6.24  7.0       0      0  ...       NaN        30   \n",
      "129     20.20      14.0   5.80  7.0       0      0  ...       NaN        36   \n",
      "130     19.70      14.0   5.68  7.0       0      0  ...       NaN        33   \n",
      "131     20.00      11.0   5.24  7.0       0      0  ...       NaN        30   \n",
      "132     19.00      11.0   6.35  7.0       0      0  ...       NaN        30   \n",
      "133     19.20      12.0   6.91  7.0       0      0  ...       NaN        36   \n",
      "134     18.60      12.0   7.21  7.0       0      0  ...       NaN        30   \n",
      "135     20.40      14.0   7.78  7.0       0      0  ...       NaN        30   \n",
      "137     21.00      19.0   6.40  7.0       0      0  ...       NaN        39   \n",
      "138     18.40      17.0   8.20  7.0       0      0  ...       NaN        30   \n",
      "139     21.00      19.0   3.30  7.0       0      0  ...       NaN        32   \n",
      "140     19.40      15.1   9.91  7.0       0      0  ...       NaN        30   \n",
      "141     18.50      15.1   8.62  7.0       0      0  ...       NaN        30   \n",
      "142     18.60      12.3   8.83  7.0       0      0  ...       NaN        30   \n",
      "147     18.89      12.0   3.99  7.0       0      0  ...       NaN        30   \n",
      "148     18.43      13.0   5.37  7.0       0      0  ...       NaN        30   \n",
      "149     18.50      14.0   6.60  7.0       0      0  ...       NaN        30   \n",
      "150     18.50      14.0   6.10  7.0       0      0  ...       NaN        30   \n",
      "151     17.10      14.0   7.06  8.0       0      0  ...       NaN        30   \n",
      "152     18.50      13.0   7.49  7.0       0      0  ...       NaN        30   \n",
      "153     18.60      13.0   7.38  7.0       0      0  ...       NaN        30   \n",
      "154     18.30      13.0   7.00  7.0       0      0  ...       NaN        39   \n",
      "155     15.04      11.0  11.02  7.0       0      0  ...       NaN        37   \n",
      "156     18.06      16.0  10.39  7.0       0      0  ...       NaN        30   \n",
      "157     18.70      12.0   8.54  7.0       0      0  ...       NaN        48   \n",
      "158     18.50      10.0   7.21  7.0       0      0  ...       NaN        72   \n",
      "159     16.00       7.0  11.05  7.0       0      0  ...       NaN        33   \n",
      "160     17.20       6.0   8.38  7.0       0      0  ...       NaN        46   \n",
      "161     18.00       4.0   7.36  7.0       0      0  ...       NaN        30   \n",
      "162     17.10       5.0   8.98  7.0       0      0  ...       NaN        30   \n",
      "163     10.00      12.0   7.21  7.0       0      0  ...       NaN        30   \n",
      "164     10.00      12.0   7.21  7.0       0      1  ...       NaN        31   \n",
      "165     10.00      12.0   7.21  7.0       0      0  ...       NaN        30   \n",
      "166     10.00      12.0   7.21  7.0       0      0  ...       NaN        39   \n",
      "167     10.00      12.0   7.21  7.0       0      0  ...       NaN        30   \n",
      "\n",
      "     turbiedad_ntu  hidr_deriv_petr_ug_l  cr_total_mg_l  cd_total_mg_l  \\\n",
      "126           30.0                   0.1          0.005          0.001   \n",
      "127           26.0                   0.1          0.005          0.001   \n",
      "128           28.0                   0.1          0.005          0.001   \n",
      "129           25.0                   0.1          0.005          0.001   \n",
      "130           30.0                   0.1          0.005          0.001   \n",
      "131           26.0                   0.1          0.005          0.001   \n",
      "132           30.0                   0.1          0.005          0.001   \n",
      "133           29.0                   0.1          0.005          0.001   \n",
      "134           35.0                   0.1          6.000          0.001   \n",
      "135           39.0                   0.1          0.005          0.001   \n",
      "137           29.0                   0.1          0.005          0.001   \n",
      "138           29.0                   0.1          6.000          0.001   \n",
      "139            9.3                   0.1          0.005          0.001   \n",
      "140           28.0                   0.1          0.005          0.001   \n",
      "141           19.0                   0.1          0.005          0.001   \n",
      "142           19.0                   0.1          6.000          0.001   \n",
      "147           14.0                   0.1          7.000          0.001   \n",
      "148           16.0                   0.1          0.005          0.001   \n",
      "149           18.0                   0.1          0.005          0.001   \n",
      "150           15.0                   0.1          0.005          0.001   \n",
      "151           21.0                   0.1          7.000          0.001   \n",
      "152           17.0                   0.1          0.005          0.001   \n",
      "153           20.0                   0.1          0.005          0.001   \n",
      "154           25.0                   0.1          6.000          0.001   \n",
      "155           37.0                   0.1         12.000          0.001   \n",
      "156           25.0                   0.1          0.005          0.001   \n",
      "157           34.0                   0.1          8.000          0.001   \n",
      "158           39.0                   0.1         10.000          0.001   \n",
      "159           31.0                   0.1          0.005          0.001   \n",
      "160           26.0                   0.1          0.005          0.001   \n",
      "161           23.0                   0.1          0.005          0.001   \n",
      "162           39.0                   0.1          0.005          0.001   \n",
      "163           23.0                   0.1          0.005          0.001   \n",
      "164           18.2                   0.1          0.005          0.001   \n",
      "165           40.0                   0.1          0.005          0.001   \n",
      "166           90.0                   0.1          5.000          0.001   \n",
      "167           70.0                   0.1          5.000          0.001   \n",
      "\n",
      "     clorofila_a_ug_l  microcistina_ug_l  ica  calidad_de_agua  \n",
      "126               0.3               0.15   61                2  \n",
      "127               0.0               0.15   40                3  \n",
      "128               0.4               0.15   40                3  \n",
      "129               0.3               0.15   36                3  \n",
      "130               0.0               0.15   56                2  \n",
      "131               0.0               0.15   67                1  \n",
      "132               0.5               0.15   52                2  \n",
      "133               0.3               0.15   50                2  \n",
      "134               1.0               0.15   50                2  \n",
      "135               0.1               0.15   58                2  \n",
      "137               5.9               0.15   41                3  \n",
      "138               0.6               0.15   58                2  \n",
      "139               0.2               0.15   51                2  \n",
      "140               0.0               0.15   60                2  \n",
      "141               0.7               0.15   50                2  \n",
      "142               3.1               0.15   49                2  \n",
      "147               6.4               0.15   37                3  \n",
      "148               0.8               0.15   52                2  \n",
      "149               8.2               0.15   43                3  \n",
      "150              28.8               0.15   40                3  \n",
      "151              40.9               0.15   40                3  \n",
      "152               0.0               0.15   62                2  \n",
      "153              17.0               0.15   41                3  \n",
      "154              63.7               0.15   36                3  \n",
      "155              92.4               0.15   40                3  \n",
      "156               8.5               0.15   39                3  \n",
      "157              11.7               0.15   40                3  \n",
      "158              74.2               0.15   41                3  \n",
      "159              36.5               0.19   38                3  \n",
      "160              29.4               0.15   41                3  \n",
      "161              16.7               0.15   37                3  \n",
      "162               0.6               0.15   54                2  \n",
      "163               2.1               0.15   43                3  \n",
      "164              20.2               0.15   37                3  \n",
      "165               0.2               0.15   49                2  \n",
      "166              10.5               0.15   39                3  \n",
      "167              48.0               0.15   34                3  \n",
      "\n",
      "[37 rows x 29 columns]\n"
     ]
    }
   ],
   "source": [
    "#Filtramos las muestras donde la campaña es primavera y la columna \"dbo_mg_l\" = Nan\n",
    "primavera_nan = copy_dataset[(copy_dataset['campaña'] == 'Primavera') & (copy_dataset['dbo_mg_l'].isna())]\n",
    "print(primavera_nan)"
   ]
  },
  {
   "cell_type": "markdown",
   "metadata": {},
   "source": [
    "Observamos que para la columna \"dbo_mg_l\" para la campaña Primavera siguen habiendo ocurrencias Nan.\n",
    "la mediana devuelve NaN, significa que no hay suficientes datos válidos en la campaña \"Primavera\" para calcular una mediana, y eso explicaría por qué no podemos reemplazar los valores NaN. En ese caso, podríamos intentar un enfoque alternativo, como usar un valor por defecto o una mediana calculada de otra campaña."
   ]
  },
  {
   "cell_type": "code",
   "execution_count": 26,
   "metadata": {},
   "outputs": [],
   "source": [
    "# Calcular la mediana total de la columna 'dbo_mg_l' sin filtrar por campaña\n",
    "median_total = copy_dataset['dbo_mg_l'].median()\n",
    "# Reemplazar los valores NaN en 'dbo_mg_l' para la campaña 'Primavera' con la mediana total\n",
    "copy_dataset.loc[(copy_dataset['campaña'] == 'Primavera') & (copy_dataset['dbo_mg_l'].isna()), 'dbo_mg_l'] = median_total\n"
   ]
  },
  {
   "cell_type": "markdown",
   "metadata": {},
   "source": [
    "verificamos que se reemplazaron los Nan correctamente"
   ]
  },
  {
   "cell_type": "code",
   "execution_count": 27,
   "metadata": {},
   "outputs": [
    {
     "data": {
      "text/plain": [
       "0      6.2\n",
       "1      5.8\n",
       "2      1.9\n",
       "3      5.8\n",
       "4      2.6\n",
       "      ... \n",
       "163    5.0\n",
       "164    5.0\n",
       "165    5.0\n",
       "166    5.0\n",
       "167    5.0\n",
       "Name: dbo_mg_l, Length: 154, dtype: float64"
      ]
     },
     "execution_count": 27,
     "metadata": {},
     "output_type": "execute_result"
    }
   ],
   "source": [
    "copy_dataset[\"dbo_mg_l\"]"
   ]
  },
  {
   "cell_type": "markdown",
   "metadata": {},
   "source": [
    "Ahora si estamos en condiciones!"
   ]
  },
  {
   "cell_type": "markdown",
   "metadata": {},
   "source": [
    "Realizamos un describe para ver una serie de caracteristicas descriptivas"
   ]
  },
  {
   "cell_type": "code",
   "execution_count": 28,
   "metadata": {},
   "outputs": [],
   "source": [
    "#seteamos la opcion para que el dataset muestre los valores completos y no en notacion cientifica\n",
    "pd.set_option('display.float_format', lambda x: '%.3f' % x)"
   ]
  },
  {
   "cell_type": "code",
   "execution_count": 29,
   "metadata": {},
   "outputs": [],
   "source": [
    "# Ajustes para que se muestren todas las filas y columnas sin truncamiento\n",
    "pd.set_option('display.max_rows', None)\n",
    "pd.set_option('display.max_columns', None)\n",
    "pd.set_option('display.expand_frame_repr', False)"
   ]
  },
  {
   "cell_type": "code",
   "execution_count": 30,
   "metadata": {},
   "outputs": [
    {
     "data": {
      "text/html": [
       "<div>\n",
       "<style scoped>\n",
       "    .dataframe tbody tr th:only-of-type {\n",
       "        vertical-align: middle;\n",
       "    }\n",
       "\n",
       "    .dataframe tbody tr th {\n",
       "        vertical-align: top;\n",
       "    }\n",
       "\n",
       "    .dataframe thead th {\n",
       "        text-align: right;\n",
       "    }\n",
       "</style>\n",
       "<table border=\"1\" class=\"dataframe\">\n",
       "  <thead>\n",
       "    <tr style=\"text-align: right;\">\n",
       "      <th></th>\n",
       "      <th>tem_agua</th>\n",
       "      <th>tem_aire</th>\n",
       "      <th>od</th>\n",
       "      <th>ph</th>\n",
       "      <th>olores</th>\n",
       "      <th>color</th>\n",
       "      <th>espumas</th>\n",
       "      <th>mat_susp</th>\n",
       "      <th>colif_fecales_ufc_100ml</th>\n",
       "      <th>escher_coli_ufc_100ml</th>\n",
       "      <th>enteroc_ufc_100ml</th>\n",
       "      <th>nitrato_mg_l</th>\n",
       "      <th>nh4_mg_l</th>\n",
       "      <th>p_total_l_mg_l</th>\n",
       "      <th>fosf_ortofos_mg_l</th>\n",
       "      <th>dbo_mg_l</th>\n",
       "      <th>dqo_mg_l</th>\n",
       "      <th>turbiedad_ntu</th>\n",
       "      <th>hidr_deriv_petr_ug_l</th>\n",
       "      <th>cr_total_mg_l</th>\n",
       "      <th>cd_total_mg_l</th>\n",
       "      <th>clorofila_a_ug_l</th>\n",
       "      <th>microcistina_ug_l</th>\n",
       "      <th>ica</th>\n",
       "      <th>calidad_de_agua</th>\n",
       "    </tr>\n",
       "  </thead>\n",
       "  <tbody>\n",
       "    <tr>\n",
       "      <th>count</th>\n",
       "      <td>154.000</td>\n",
       "      <td>154.000</td>\n",
       "      <td>154.000</td>\n",
       "      <td>154.000</td>\n",
       "      <td>154.000</td>\n",
       "      <td>154.000</td>\n",
       "      <td>154.000</td>\n",
       "      <td>154.000</td>\n",
       "      <td>154.000</td>\n",
       "      <td>154.000</td>\n",
       "      <td>154.000</td>\n",
       "      <td>154.000</td>\n",
       "      <td>154.000</td>\n",
       "      <td>154.000</td>\n",
       "      <td>154.000</td>\n",
       "      <td>154.000</td>\n",
       "      <td>154.000</td>\n",
       "      <td>154.000</td>\n",
       "      <td>154.000</td>\n",
       "      <td>154.000</td>\n",
       "      <td>154.000</td>\n",
       "      <td>154.000</td>\n",
       "      <td>154.000</td>\n",
       "      <td>154.000</td>\n",
       "      <td>154.000</td>\n",
       "    </tr>\n",
       "    <tr>\n",
       "      <th>mean</th>\n",
       "      <td>17.900</td>\n",
       "      <td>15.826</td>\n",
       "      <td>6.777</td>\n",
       "      <td>7.439</td>\n",
       "      <td>0.078</td>\n",
       "      <td>0.084</td>\n",
       "      <td>0.032</td>\n",
       "      <td>0.175</td>\n",
       "      <td>86140.292</td>\n",
       "      <td>4068.110</td>\n",
       "      <td>947.831</td>\n",
       "      <td>6.869</td>\n",
       "      <td>1.941</td>\n",
       "      <td>0.863</td>\n",
       "      <td>0.415</td>\n",
       "      <td>5.875</td>\n",
       "      <td>44.188</td>\n",
       "      <td>34.762</td>\n",
       "      <td>0.101</td>\n",
       "      <td>0.544</td>\n",
       "      <td>0.001</td>\n",
       "      <td>263.861</td>\n",
       "      <td>0.189</td>\n",
       "      <td>44.071</td>\n",
       "      <td>2.584</td>\n",
       "    </tr>\n",
       "    <tr>\n",
       "      <th>std</th>\n",
       "      <td>4.786</td>\n",
       "      <td>5.023</td>\n",
       "      <td>2.642</td>\n",
       "      <td>0.697</td>\n",
       "      <td>0.269</td>\n",
       "      <td>0.279</td>\n",
       "      <td>0.178</td>\n",
       "      <td>0.381</td>\n",
       "      <td>380084.458</td>\n",
       "      <td>15012.075</td>\n",
       "      <td>2999.021</td>\n",
       "      <td>4.043</td>\n",
       "      <td>4.120</td>\n",
       "      <td>3.386</td>\n",
       "      <td>0.309</td>\n",
       "      <td>4.571</td>\n",
       "      <td>23.477</td>\n",
       "      <td>23.854</td>\n",
       "      <td>0.008</td>\n",
       "      <td>1.946</td>\n",
       "      <td>0.000</td>\n",
       "      <td>816.715</td>\n",
       "      <td>0.159</td>\n",
       "      <td>8.949</td>\n",
       "      <td>0.520</td>\n",
       "    </tr>\n",
       "    <tr>\n",
       "      <th>min</th>\n",
       "      <td>6.000</td>\n",
       "      <td>4.000</td>\n",
       "      <td>0.360</td>\n",
       "      <td>5.000</td>\n",
       "      <td>0.000</td>\n",
       "      <td>0.000</td>\n",
       "      <td>0.000</td>\n",
       "      <td>0.000</td>\n",
       "      <td>80.000</td>\n",
       "      <td>1.000</td>\n",
       "      <td>2.000</td>\n",
       "      <td>1.900</td>\n",
       "      <td>0.049</td>\n",
       "      <td>0.100</td>\n",
       "      <td>0.100</td>\n",
       "      <td>1.900</td>\n",
       "      <td>29.000</td>\n",
       "      <td>2.500</td>\n",
       "      <td>0.100</td>\n",
       "      <td>0.005</td>\n",
       "      <td>0.001</td>\n",
       "      <td>0.000</td>\n",
       "      <td>0.150</td>\n",
       "      <td>23.000</td>\n",
       "      <td>1.000</td>\n",
       "    </tr>\n",
       "    <tr>\n",
       "      <th>25%</th>\n",
       "      <td>14.933</td>\n",
       "      <td>13.000</td>\n",
       "      <td>5.363</td>\n",
       "      <td>7.000</td>\n",
       "      <td>0.000</td>\n",
       "      <td>0.000</td>\n",
       "      <td>0.000</td>\n",
       "      <td>0.000</td>\n",
       "      <td>1200.000</td>\n",
       "      <td>100.000</td>\n",
       "      <td>57.500</td>\n",
       "      <td>3.700</td>\n",
       "      <td>0.103</td>\n",
       "      <td>0.270</td>\n",
       "      <td>0.230</td>\n",
       "      <td>3.625</td>\n",
       "      <td>30.000</td>\n",
       "      <td>18.050</td>\n",
       "      <td>0.100</td>\n",
       "      <td>0.005</td>\n",
       "      <td>0.001</td>\n",
       "      <td>10.000</td>\n",
       "      <td>0.150</td>\n",
       "      <td>38.000</td>\n",
       "      <td>2.000</td>\n",
       "    </tr>\n",
       "    <tr>\n",
       "      <th>50%</th>\n",
       "      <td>17.850</td>\n",
       "      <td>14.000</td>\n",
       "      <td>6.805</td>\n",
       "      <td>7.355</td>\n",
       "      <td>0.000</td>\n",
       "      <td>0.000</td>\n",
       "      <td>0.000</td>\n",
       "      <td>0.000</td>\n",
       "      <td>3900.000</td>\n",
       "      <td>330.000</td>\n",
       "      <td>300.000</td>\n",
       "      <td>5.850</td>\n",
       "      <td>0.650</td>\n",
       "      <td>0.370</td>\n",
       "      <td>0.330</td>\n",
       "      <td>5.000</td>\n",
       "      <td>30.000</td>\n",
       "      <td>27.500</td>\n",
       "      <td>0.100</td>\n",
       "      <td>0.005</td>\n",
       "      <td>0.001</td>\n",
       "      <td>10.000</td>\n",
       "      <td>0.150</td>\n",
       "      <td>42.000</td>\n",
       "      <td>3.000</td>\n",
       "    </tr>\n",
       "    <tr>\n",
       "      <th>75%</th>\n",
       "      <td>20.775</td>\n",
       "      <td>19.000</td>\n",
       "      <td>8.170</td>\n",
       "      <td>7.790</td>\n",
       "      <td>0.000</td>\n",
       "      <td>0.000</td>\n",
       "      <td>0.000</td>\n",
       "      <td>0.000</td>\n",
       "      <td>37500.000</td>\n",
       "      <td>1675.000</td>\n",
       "      <td>667.500</td>\n",
       "      <td>8.800</td>\n",
       "      <td>1.675</td>\n",
       "      <td>0.565</td>\n",
       "      <td>0.497</td>\n",
       "      <td>6.425</td>\n",
       "      <td>52.250</td>\n",
       "      <td>45.000</td>\n",
       "      <td>0.100</td>\n",
       "      <td>0.005</td>\n",
       "      <td>0.001</td>\n",
       "      <td>41.800</td>\n",
       "      <td>0.200</td>\n",
       "      <td>50.000</td>\n",
       "      <td>3.000</td>\n",
       "    </tr>\n",
       "    <tr>\n",
       "      <th>max</th>\n",
       "      <td>27.400</td>\n",
       "      <td>27.000</td>\n",
       "      <td>17.610</td>\n",
       "      <td>10.020</td>\n",
       "      <td>1.000</td>\n",
       "      <td>1.000</td>\n",
       "      <td>1.000</td>\n",
       "      <td>1.000</td>\n",
       "      <td>4200000.000</td>\n",
       "      <td>150000.000</td>\n",
       "      <td>28000.000</td>\n",
       "      <td>21.900</td>\n",
       "      <td>23.000</td>\n",
       "      <td>30.120</td>\n",
       "      <td>2.600</td>\n",
       "      <td>42.000</td>\n",
       "      <td>180.000</td>\n",
       "      <td>130.000</td>\n",
       "      <td>0.200</td>\n",
       "      <td>12.000</td>\n",
       "      <td>0.002</td>\n",
       "      <td>6410.000</td>\n",
       "      <td>1.670</td>\n",
       "      <td>76.000</td>\n",
       "      <td>3.000</td>\n",
       "    </tr>\n",
       "  </tbody>\n",
       "</table>\n",
       "</div>"
      ],
      "text/plain": [
       "       tem_agua  tem_aire      od      ph  olores   color  espumas  mat_susp  colif_fecales_ufc_100ml  escher_coli_ufc_100ml  enteroc_ufc_100ml  nitrato_mg_l  nh4_mg_l  p_total_l_mg_l  fosf_ortofos_mg_l  dbo_mg_l  dqo_mg_l  turbiedad_ntu  hidr_deriv_petr_ug_l  cr_total_mg_l  cd_total_mg_l  clorofila_a_ug_l  microcistina_ug_l     ica  calidad_de_agua\n",
       "count   154.000   154.000 154.000 154.000 154.000 154.000  154.000   154.000                  154.000                154.000            154.000       154.000   154.000         154.000            154.000   154.000   154.000        154.000               154.000        154.000        154.000           154.000            154.000 154.000          154.000\n",
       "mean     17.900    15.826   6.777   7.439   0.078   0.084    0.032     0.175                86140.292               4068.110            947.831         6.869     1.941           0.863              0.415     5.875    44.188         34.762                 0.101          0.544          0.001           263.861              0.189  44.071            2.584\n",
       "std       4.786     5.023   2.642   0.697   0.269   0.279    0.178     0.381               380084.458              15012.075           2999.021         4.043     4.120           3.386              0.309     4.571    23.477         23.854                 0.008          1.946          0.000           816.715              0.159   8.949            0.520\n",
       "min       6.000     4.000   0.360   5.000   0.000   0.000    0.000     0.000                   80.000                  1.000              2.000         1.900     0.049           0.100              0.100     1.900    29.000          2.500                 0.100          0.005          0.001             0.000              0.150  23.000            1.000\n",
       "25%      14.933    13.000   5.363   7.000   0.000   0.000    0.000     0.000                 1200.000                100.000             57.500         3.700     0.103           0.270              0.230     3.625    30.000         18.050                 0.100          0.005          0.001            10.000              0.150  38.000            2.000\n",
       "50%      17.850    14.000   6.805   7.355   0.000   0.000    0.000     0.000                 3900.000                330.000            300.000         5.850     0.650           0.370              0.330     5.000    30.000         27.500                 0.100          0.005          0.001            10.000              0.150  42.000            3.000\n",
       "75%      20.775    19.000   8.170   7.790   0.000   0.000    0.000     0.000                37500.000               1675.000            667.500         8.800     1.675           0.565              0.497     6.425    52.250         45.000                 0.100          0.005          0.001            41.800              0.200  50.000            3.000\n",
       "max      27.400    27.000  17.610  10.020   1.000   1.000    1.000     1.000              4200000.000             150000.000          28000.000        21.900    23.000          30.120              2.600    42.000   180.000        130.000                 0.200         12.000          0.002          6410.000              1.670  76.000            3.000"
      ]
     },
     "execution_count": 30,
     "metadata": {},
     "output_type": "execute_result"
    }
   ],
   "source": [
    "copy_dataset.describe()"
   ]
  },
  {
   "cell_type": "markdown",
   "metadata": {},
   "source": [
    "Okey, vemos ciertas conductas en algunos indicadores:\n",
    "- en el maximo valor de \"Colif_fecales_ufc_100ml\" (es absurdamente grande) siendo que hasta el 3er cuartil no acumula siquiera la mitad del maximo\n",
    "- en \"Fósforo total\" o \"p_total_l_mg_l\" cuyo valor maximo es de 30.120 mg/L\n",
    "- \"Oxigeno Disuelto\" tiene un minimo bastante chico, y un maximo bastante grande, entre los cuartiles no varia tanto\n",
    "- olores, color, espumas y materia suspendia, fueron mapeadas por lo que no aportan mucho, podemos deducir que en la mayoria de los casos no estan presentes en el agua porque el promedio de cada una esta por debajo del 17%\n",
    "- en \"nh4_mg_l\" o \"Concentración de amonio\"se observa un maximo muy superior a los demas valores\n",
    "- tanto en DBO como en DQO, sus maximos son mas grandes que el valor acumulado hasta el 3er cuartil\n",
    "- La turbiedad en promedio es 34.762 NTU, mientras que el minimo es de 2.5 NTU y el maximo de 130 NTU (bastante turbio jajaj)\n",
    "- La \"Concentración total de cromo\" es bastante baja en promedio, pero el maximo esta muy alejado\n",
    "- La \"Concentración de clorofila\" tiene un desvio estandar muy grande ya que el maximo esta muy alejado\n",
    "\n",
    "Conforme vayamos avanzando, veremos en cuales indicadores deberemos de tomar alguna decision al respecto, si sacar los outliers o darles sentido, acorde a si son un posible error de muestreo, o tienen relevancia en la zona donde se extrajo esa muestra"
   ]
  },
  {
   "cell_type": "markdown",
   "metadata": {},
   "source": [
    "Para empezar nuestro analisis tecnico, nos centraremos en principio en el ICA (Indice de Calidad del Agua) ya que es una medida utilizada para evaluar la calidad general del agua de manera sencilla, basándose en varios parámetros como la concentración de contaminantes, la turbidez, la oxigenación, el pH, entre otros"
   ]
  },
  {
   "cell_type": "markdown",
   "metadata": {},
   "source": [
    "Veamos en el siguiente histograma, como se distribuyen los diferentes valores del ICA en todas las observaciones"
   ]
  },
  {
   "cell_type": "code",
   "execution_count": 31,
   "metadata": {},
   "outputs": [
    {
     "data": {
      "image/png": "[encoded data removed]",
      "text/plain": [
       "<Figure size 1000x600 with 1 Axes>"
      ]
     },
     "metadata": {},
     "output_type": "display_data"
    }
   ],
   "source": [
    "plt.figure(figsize=(10, 6))\n",
    "plt.hist(copy_dataset['ica'], bins=20, color='skyblue', edgecolor='black')\n",
    "plt.title('Distribución del Índice de Calidad del Agua (ICA)', fontsize=14)\n",
    "plt.xlabel('ICA', fontsize=12)\n",
    "plt.ylabel('Frecuencia', fontsize=12)\n",
    "plt.show()"
   ]
  },
  {
   "cell_type": "markdown",
   "metadata": {},
   "source": [
    "En el grafico vemos que los valores que mas se repiten de ICA oscilan entre 35 y 45 (siendo 40 el que mas se repite) lo que indicaria una prevalencia de media a baja calidad de agua. Tambien se observa que hay 2 valores que se alejan bastante de los demas, uno mayor a 70 y el otro menor a 30.\n",
    "\n",
    "En principio, uno pensaria que el ICA deberia de ser peor en condiciones climaticas de mayor temperatura, osea valores mas bajos, ya que la temperatura del agua se eleva y trae consigo ciertos fenomenos como la elevacion de los niveles de contaminantes orgánicos, la reduccion de la cantidad de oxígeno disuelto en el agua o incluso el aumento de los niveles de clorofila, afectando los valores de turbidez.\n",
    "\n",
    "Esto podria ser tomado como una primera hipotesis inicial, en la que comprobaremos si el ICA en Verano, es peor que en las otras estaciones, debido al aumento de precipitaciones, humedad, mas calor, etc. ¿Sera asi?"
   ]
  },
  {
   "cell_type": "markdown",
   "metadata": {},
   "source": [
    "Examinaremos los valores del ICA para las 4 campañas o fechas del dataset, que corresponden a las 4 estaciones del año: Verano, Otoño, Invierno y Primavera"
   ]
  },
  {
   "cell_type": "code",
   "execution_count": 32,
   "metadata": {},
   "outputs": [
    {
     "data": {
      "image/png": "[encoded data removed]",
      "text/plain": [
       "<Figure size 1000x600 with 1 Axes>"
      ]
     },
     "metadata": {},
     "output_type": "display_data"
    }
   ],
   "source": [
    "plt.figure(figsize=(10, 6))\n",
    "# iteracion donde por cada una de las 4 fechas de muestreo, muestra la variacion del ICA\n",
    "for fecha in copy_dataset['fecha'].unique():\n",
    "    data_fecha = copy_dataset[copy_dataset['fecha'] == fecha]\n",
    "    plt.plot(data_fecha['ica'], label=f'Fecha: {fecha}')\n",
    "\n",
    "plt.xlabel('Índice de Muestra')\n",
    "plt.ylabel('ICA')\n",
    "plt.grid(True)\n",
    "plt.legend(title='Fechas')\n",
    "plt.title('Valores de ICA por Fecha')\n",
    "plt.show()"
   ]
  },
  {
   "cell_type": "markdown",
   "metadata": {},
   "source": [
    "Podemos observar, que hay una tendencia de menores niveles de ICA en la campaña \"Invierno\" (23/08/2022). Los 3 valores mas chicos que toma este indicador, estan presentes en esta estacion por alguna razon, lo que parece extraño, porque en inicio creiamos lo opuesto. Ademas en verano vemos un pico bastante alto que podria ser un error de medicion o alguna zona en la que raramente ese valor es muy alto."
   ]
  },
  {
   "cell_type": "code",
   "execution_count": 33,
   "metadata": {},
   "outputs": [],
   "source": [
    "# Ajustes para que se muestren todas las filas y columnas sin truncamiento\n",
    "pd.set_option('display.max_rows', None)\n",
    "pd.set_option('display.max_columns', None)\n",
    "pd.set_option('display.expand_frame_repr', False)"
   ]
  },
  {
   "cell_type": "markdown",
   "metadata": {},
   "source": [
    "LA SIGUIENTE FUNCION, OPERA POR CADA OBSERVACION DEL DATASET, AGREGANDO A LA LISTA \"INDICES_FILTRADOS\" AQUELLAS MUESTRAS HECHAS EN INVIERNO DONDE EL \"ICA\" SEA MENOR EN COMPARACION CON LAS OTRAS 3 CAMPAÑAS, PARA ESA MISMA OBSERVACION."
   ]
  },
  {
   "cell_type": "code",
   "execution_count": 34,
   "metadata": {},
   "outputs": [
    {
     "name": "stdout",
     "output_type": "stream",
     "text": [
      "[84, 86, 88, 89, 90, 93, 98, 102, 103, 105, 109, 110, 111, 113, 114, 115, 119, 120, 121, 122, 123]\n"
     ]
    }
   ],
   "source": [
    "def filtrar_ica_minimo(df):\n",
    "    # Inicializar una lista para guardar los índices de las filas que cumplen la condición\n",
    "    indices_filtrados = []\n",
    "    \n",
    "    # Iterar sobre las filas de la campaña \"invierno\"\n",
    "    for idx, row in df[df['campaña'] == 'invierno'].iterrows():\n",
    "        # Obtener el valor de ICA para la fila actual\n",
    "        ica_invierno = row['ica']\n",
    "        \n",
    "        # Filtrar las filas con la misma observación en otras campañas\n",
    "        otras_campañas = df[(df['sitios'] == row['sitios']) & (df['campaña'] != 'invierno')]\n",
    "        \n",
    "        # Obtener el valor mínimo de ICA de las otras campañas\n",
    "        min_ica_otra_campaña = otras_campañas['ica'].min()\n",
    "        \n",
    "        # Si el ICA en invierno es menor que el mínimo de las otras campañas, agregar el índice a la lista\n",
    "        if ica_invierno < min_ica_otra_campaña:\n",
    "            indices_filtrados.append(idx)\n",
    "    \n",
    "    # Devolver el indice de las filas filtradas\n",
    "    return indices_filtrados\n",
    "\n",
    "# Llamar a la función con la copia del dataset\n",
    "resultado = filtrar_ica_minimo(copy_dataset)\n",
    "\n",
    "print(resultado)"
   ]
  },
  {
   "cell_type": "markdown",
   "metadata": {},
   "source": [
    "VEMOS QUE 21 de 37 muestras totales hechas en invierno, el \"ICA\" es mas bajo en comparacion a las demas estaciones. un 56% lo que es bastante peculiar"
   ]
  },
  {
   "cell_type": "markdown",
   "metadata": {},
   "source": [
    "Procederemos a ver en que sitios el ICA es mas bajo para la campaña invierno"
   ]
  },
  {
   "cell_type": "code",
   "execution_count": 35,
   "metadata": {},
   "outputs": [
    {
     "data": {
      "text/html": [
       "<div>\n",
       "<style scoped>\n",
       "    .dataframe tbody tr th:only-of-type {\n",
       "        vertical-align: middle;\n",
       "    }\n",
       "\n",
       "    .dataframe tbody tr th {\n",
       "        vertical-align: top;\n",
       "    }\n",
       "\n",
       "    .dataframe thead th {\n",
       "        text-align: right;\n",
       "    }\n",
       "</style>\n",
       "<table border=\"1\" class=\"dataframe\">\n",
       "  <thead>\n",
       "    <tr style=\"text-align: right;\">\n",
       "      <th></th>\n",
       "      <th>sitios</th>\n",
       "      <th>codigo</th>\n",
       "      <th>fecha</th>\n",
       "      <th>campaña</th>\n",
       "      <th>tem_agua</th>\n",
       "      <th>tem_aire</th>\n",
       "      <th>od</th>\n",
       "      <th>ph</th>\n",
       "      <th>olores</th>\n",
       "      <th>color</th>\n",
       "      <th>espumas</th>\n",
       "      <th>mat_susp</th>\n",
       "      <th>colif_fecales_ufc_100ml</th>\n",
       "      <th>escher_coli_ufc_100ml</th>\n",
       "      <th>enteroc_ufc_100ml</th>\n",
       "      <th>nitrato_mg_l</th>\n",
       "      <th>nh4_mg_l</th>\n",
       "      <th>p_total_l_mg_l</th>\n",
       "      <th>fosf_ortofos_mg_l</th>\n",
       "      <th>dbo_mg_l</th>\n",
       "      <th>dqo_mg_l</th>\n",
       "      <th>turbiedad_ntu</th>\n",
       "      <th>hidr_deriv_petr_ug_l</th>\n",
       "      <th>cr_total_mg_l</th>\n",
       "      <th>cd_total_mg_l</th>\n",
       "      <th>clorofila_a_ug_l</th>\n",
       "      <th>microcistina_ug_l</th>\n",
       "      <th>ica</th>\n",
       "      <th>calidad_de_agua</th>\n",
       "    </tr>\n",
       "  </thead>\n",
       "  <tbody>\n",
       "    <tr>\n",
       "      <th>122</th>\n",
       "      <td>Diagonal 66 (descarga cloaca)</td>\n",
       "      <td>BS095</td>\n",
       "      <td>23/8/2022</td>\n",
       "      <td>invierno</td>\n",
       "      <td>11.000</td>\n",
       "      <td>14.000</td>\n",
       "      <td>8.050</td>\n",
       "      <td>8.130</td>\n",
       "      <td>1</td>\n",
       "      <td>1</td>\n",
       "      <td>1</td>\n",
       "      <td>1</td>\n",
       "      <td>700000.000</td>\n",
       "      <td>440.000</td>\n",
       "      <td>30.000</td>\n",
       "      <td>2.100</td>\n",
       "      <td>19.000</td>\n",
       "      <td>1.400</td>\n",
       "      <td>1.400</td>\n",
       "      <td>21.000</td>\n",
       "      <td>30</td>\n",
       "      <td>11.000</td>\n",
       "      <td>0.100</td>\n",
       "      <td>0.005</td>\n",
       "      <td>0.001</td>\n",
       "      <td>630.000</td>\n",
       "      <td>0.150</td>\n",
       "      <td>23</td>\n",
       "      <td>3</td>\n",
       "    </tr>\n",
       "    <tr>\n",
       "      <th>90</th>\n",
       "      <td>Río Lujan y Canal San Fernando</td>\n",
       "      <td>TI007</td>\n",
       "      <td>23/8/2022</td>\n",
       "      <td>invierno</td>\n",
       "      <td>16.500</td>\n",
       "      <td>15.000</td>\n",
       "      <td>1.130</td>\n",
       "      <td>7.120</td>\n",
       "      <td>1</td>\n",
       "      <td>1</td>\n",
       "      <td>0</td>\n",
       "      <td>0</td>\n",
       "      <td>240000.000</td>\n",
       "      <td>90.000</td>\n",
       "      <td>9.000</td>\n",
       "      <td>11.700</td>\n",
       "      <td>9.300</td>\n",
       "      <td>0.860</td>\n",
       "      <td>0.860</td>\n",
       "      <td>14.000</td>\n",
       "      <td>30</td>\n",
       "      <td>20.500</td>\n",
       "      <td>0.100</td>\n",
       "      <td>5.000</td>\n",
       "      <td>0.001</td>\n",
       "      <td>10.000</td>\n",
       "      <td>0.150</td>\n",
       "      <td>25</td>\n",
       "      <td>3</td>\n",
       "    </tr>\n",
       "    <tr>\n",
       "      <th>86</th>\n",
       "      <td>Canal Aliviador y Río Lujan</td>\n",
       "      <td>TI002</td>\n",
       "      <td>23/8/2022</td>\n",
       "      <td>invierno</td>\n",
       "      <td>14.400</td>\n",
       "      <td>14.000</td>\n",
       "      <td>0.450</td>\n",
       "      <td>7.140</td>\n",
       "      <td>1</td>\n",
       "      <td>0</td>\n",
       "      <td>0</td>\n",
       "      <td>0</td>\n",
       "      <td>4200000.000</td>\n",
       "      <td>186.000</td>\n",
       "      <td>11.000</td>\n",
       "      <td>11.700</td>\n",
       "      <td>23.000</td>\n",
       "      <td>2.800</td>\n",
       "      <td>2.600</td>\n",
       "      <td>42.000</td>\n",
       "      <td>75</td>\n",
       "      <td>13.000</td>\n",
       "      <td>0.100</td>\n",
       "      <td>0.009</td>\n",
       "      <td>0.001</td>\n",
       "      <td>10.000</td>\n",
       "      <td>0.150</td>\n",
       "      <td>29</td>\n",
       "      <td>3</td>\n",
       "    </tr>\n",
       "    <tr>\n",
       "      <th>89</th>\n",
       "      <td>Rio Tigre 100m antes del Rio Luján</td>\n",
       "      <td>TI005</td>\n",
       "      <td>23/8/2022</td>\n",
       "      <td>invierno</td>\n",
       "      <td>14.300</td>\n",
       "      <td>13.000</td>\n",
       "      <td>0.360</td>\n",
       "      <td>6.880</td>\n",
       "      <td>0</td>\n",
       "      <td>0</td>\n",
       "      <td>0</td>\n",
       "      <td>1</td>\n",
       "      <td>1070000.000</td>\n",
       "      <td>560.000</td>\n",
       "      <td>27.000</td>\n",
       "      <td>2.000</td>\n",
       "      <td>22.000</td>\n",
       "      <td>1.900</td>\n",
       "      <td>0.280</td>\n",
       "      <td>2.000</td>\n",
       "      <td>30</td>\n",
       "      <td>33.000</td>\n",
       "      <td>0.200</td>\n",
       "      <td>0.011</td>\n",
       "      <td>0.001</td>\n",
       "      <td>10.000</td>\n",
       "      <td>0.150</td>\n",
       "      <td>32</td>\n",
       "      <td>3</td>\n",
       "    </tr>\n",
       "    <tr>\n",
       "      <th>119</th>\n",
       "      <td>Arroyo El Gato</td>\n",
       "      <td>EN083</td>\n",
       "      <td>23/8/2022</td>\n",
       "      <td>invierno</td>\n",
       "      <td>12.800</td>\n",
       "      <td>9.000</td>\n",
       "      <td>2.490</td>\n",
       "      <td>8.010</td>\n",
       "      <td>0</td>\n",
       "      <td>0</td>\n",
       "      <td>0</td>\n",
       "      <td>0</td>\n",
       "      <td>192000.000</td>\n",
       "      <td>60.000</td>\n",
       "      <td>24.000</td>\n",
       "      <td>2.000</td>\n",
       "      <td>22.000</td>\n",
       "      <td>1.200</td>\n",
       "      <td>1.200</td>\n",
       "      <td>18.000</td>\n",
       "      <td>30</td>\n",
       "      <td>20.500</td>\n",
       "      <td>0.100</td>\n",
       "      <td>0.005</td>\n",
       "      <td>0.001</td>\n",
       "      <td>1960.000</td>\n",
       "      <td>0.150</td>\n",
       "      <td>32</td>\n",
       "      <td>3</td>\n",
       "    </tr>\n",
       "  </tbody>\n",
       "</table>\n",
       "</div>"
      ],
      "text/plain": [
       "                                 sitios codigo      fecha   campaña  tem_agua  tem_aire    od    ph  olores  color  espumas  mat_susp  colif_fecales_ufc_100ml  escher_coli_ufc_100ml  enteroc_ufc_100ml  nitrato_mg_l  nh4_mg_l  p_total_l_mg_l  fosf_ortofos_mg_l  dbo_mg_l  dqo_mg_l  turbiedad_ntu  hidr_deriv_petr_ug_l  cr_total_mg_l  cd_total_mg_l  clorofila_a_ug_l  microcistina_ug_l  ica  calidad_de_agua\n",
       "122       Diagonal 66 (descarga cloaca)  BS095  23/8/2022  invierno    11.000    14.000 8.050 8.130       1      1        1         1               700000.000                440.000             30.000         2.100    19.000           1.400              1.400    21.000        30         11.000                 0.100          0.005          0.001           630.000              0.150   23                3\n",
       "90       Río Lujan y Canal San Fernando  TI007  23/8/2022  invierno    16.500    15.000 1.130 7.120       1      1        0         0               240000.000                 90.000              9.000        11.700     9.300           0.860              0.860    14.000        30         20.500                 0.100          5.000          0.001            10.000              0.150   25                3\n",
       "86          Canal Aliviador y Río Lujan  TI002  23/8/2022  invierno    14.400    14.000 0.450 7.140       1      0        0         0              4200000.000                186.000             11.000        11.700    23.000           2.800              2.600    42.000        75         13.000                 0.100          0.009          0.001            10.000              0.150   29                3\n",
       "89   Rio Tigre 100m antes del Rio Luján  TI005  23/8/2022  invierno    14.300    13.000 0.360 6.880       0      0        0         1              1070000.000                560.000             27.000         2.000    22.000           1.900              0.280     2.000        30         33.000                 0.200          0.011          0.001            10.000              0.150   32                3\n",
       "119                      Arroyo El Gato  EN083  23/8/2022  invierno    12.800     9.000 2.490 8.010       0      0        0         0               192000.000                 60.000             24.000         2.000    22.000           1.200              1.200    18.000        30         20.500                 0.100          0.005          0.001          1960.000              0.150   32                3"
      ]
     },
     "execution_count": 35,
     "metadata": {},
     "output_type": "execute_result"
    }
   ],
   "source": [
    "copy_dataset[copy_dataset['campaña'] == 'invierno'].nsmallest(5, 'ica')"
   ]
  },
  {
   "cell_type": "markdown",
   "metadata": {},
   "source": [
    "- El ICA oscila entre 23 y 32, lo que es muy bajo.\n",
    "- En todas la calidad del agua esta extremadamente deteriorada.\n",
    "- En las primeras 2 observaciones hay presencia de olores y colores en el agua.\n",
    "- La turbidez en todos los casos es mayor a 11, lo que es un peligroso para la salud.\n",
    "- Para la 2da observacion la concentracion total de cromo es elevadisima."
   ]
  },
  {
   "cell_type": "markdown",
   "metadata": {},
   "source": [
    "Examinemos el sitio para el cual el ICA es mas bajo, \"Diagonal 66 (descarga cloaca)\", para las 4 campañas diferentes"
   ]
  },
  {
   "cell_type": "code",
   "execution_count": 36,
   "metadata": {},
   "outputs": [
    {
     "data": {
      "text/html": [
       "<div>\n",
       "<style scoped>\n",
       "    .dataframe tbody tr th:only-of-type {\n",
       "        vertical-align: middle;\n",
       "    }\n",
       "\n",
       "    .dataframe tbody tr th {\n",
       "        vertical-align: top;\n",
       "    }\n",
       "\n",
       "    .dataframe thead th {\n",
       "        text-align: right;\n",
       "    }\n",
       "</style>\n",
       "<table border=\"1\" class=\"dataframe\">\n",
       "  <thead>\n",
       "    <tr style=\"text-align: right;\">\n",
       "      <th></th>\n",
       "      <th>sitios</th>\n",
       "      <th>codigo</th>\n",
       "      <th>fecha</th>\n",
       "      <th>campaña</th>\n",
       "      <th>tem_agua</th>\n",
       "      <th>tem_aire</th>\n",
       "      <th>od</th>\n",
       "      <th>ph</th>\n",
       "      <th>olores</th>\n",
       "      <th>color</th>\n",
       "      <th>espumas</th>\n",
       "      <th>mat_susp</th>\n",
       "      <th>colif_fecales_ufc_100ml</th>\n",
       "      <th>escher_coli_ufc_100ml</th>\n",
       "      <th>enteroc_ufc_100ml</th>\n",
       "      <th>nitrato_mg_l</th>\n",
       "      <th>nh4_mg_l</th>\n",
       "      <th>p_total_l_mg_l</th>\n",
       "      <th>fosf_ortofos_mg_l</th>\n",
       "      <th>dbo_mg_l</th>\n",
       "      <th>dqo_mg_l</th>\n",
       "      <th>turbiedad_ntu</th>\n",
       "      <th>hidr_deriv_petr_ug_l</th>\n",
       "      <th>cr_total_mg_l</th>\n",
       "      <th>cd_total_mg_l</th>\n",
       "      <th>clorofila_a_ug_l</th>\n",
       "      <th>microcistina_ug_l</th>\n",
       "      <th>ica</th>\n",
       "      <th>calidad_de_agua</th>\n",
       "    </tr>\n",
       "  </thead>\n",
       "  <tbody>\n",
       "    <tr>\n",
       "      <th>38</th>\n",
       "      <td>Diagonal 66 (descarga cloaca)</td>\n",
       "      <td>BS095</td>\n",
       "      <td>23/2/2022</td>\n",
       "      <td>Verano</td>\n",
       "      <td>20.000</td>\n",
       "      <td>18.000</td>\n",
       "      <td>6.560</td>\n",
       "      <td>8.110</td>\n",
       "      <td>1</td>\n",
       "      <td>1</td>\n",
       "      <td>1</td>\n",
       "      <td>1</td>\n",
       "      <td>150000.000</td>\n",
       "      <td>2800.000</td>\n",
       "      <td>20000.000</td>\n",
       "      <td>2.000</td>\n",
       "      <td>0.049</td>\n",
       "      <td>1.500</td>\n",
       "      <td>1.300</td>\n",
       "      <td>8.400</td>\n",
       "      <td>29</td>\n",
       "      <td>4.100</td>\n",
       "      <td>0.100</td>\n",
       "      <td>0.005</td>\n",
       "      <td>0.001</td>\n",
       "      <td>10.000</td>\n",
       "      <td>0.200</td>\n",
       "      <td>31</td>\n",
       "      <td>3</td>\n",
       "    </tr>\n",
       "    <tr>\n",
       "      <th>80</th>\n",
       "      <td>Diagonal 66 (descarga cloaca)</td>\n",
       "      <td>BS095</td>\n",
       "      <td>4/5/2022</td>\n",
       "      <td>otoño</td>\n",
       "      <td>8.000</td>\n",
       "      <td>12.000</td>\n",
       "      <td>7.200</td>\n",
       "      <td>7.990</td>\n",
       "      <td>1</td>\n",
       "      <td>1</td>\n",
       "      <td>1</td>\n",
       "      <td>1</td>\n",
       "      <td>400000.000</td>\n",
       "      <td>150000.000</td>\n",
       "      <td>28000.000</td>\n",
       "      <td>8.100</td>\n",
       "      <td>8.500</td>\n",
       "      <td>1.200</td>\n",
       "      <td>0.850</td>\n",
       "      <td>7.100</td>\n",
       "      <td>66</td>\n",
       "      <td>3.300</td>\n",
       "      <td>0.100</td>\n",
       "      <td>0.005</td>\n",
       "      <td>0.001</td>\n",
       "      <td>10.000</td>\n",
       "      <td>0.150</td>\n",
       "      <td>29</td>\n",
       "      <td>3</td>\n",
       "    </tr>\n",
       "    <tr>\n",
       "      <th>122</th>\n",
       "      <td>Diagonal 66 (descarga cloaca)</td>\n",
       "      <td>BS095</td>\n",
       "      <td>23/8/2022</td>\n",
       "      <td>invierno</td>\n",
       "      <td>11.000</td>\n",
       "      <td>14.000</td>\n",
       "      <td>8.050</td>\n",
       "      <td>8.130</td>\n",
       "      <td>1</td>\n",
       "      <td>1</td>\n",
       "      <td>1</td>\n",
       "      <td>1</td>\n",
       "      <td>700000.000</td>\n",
       "      <td>440.000</td>\n",
       "      <td>30.000</td>\n",
       "      <td>2.100</td>\n",
       "      <td>19.000</td>\n",
       "      <td>1.400</td>\n",
       "      <td>1.400</td>\n",
       "      <td>21.000</td>\n",
       "      <td>30</td>\n",
       "      <td>11.000</td>\n",
       "      <td>0.100</td>\n",
       "      <td>0.005</td>\n",
       "      <td>0.001</td>\n",
       "      <td>630.000</td>\n",
       "      <td>0.150</td>\n",
       "      <td>23</td>\n",
       "      <td>3</td>\n",
       "    </tr>\n",
       "    <tr>\n",
       "      <th>164</th>\n",
       "      <td>Diagonal 66 (descarga cloaca)</td>\n",
       "      <td>BS095</td>\n",
       "      <td>31/10/2022</td>\n",
       "      <td>Primavera</td>\n",
       "      <td>10.000</td>\n",
       "      <td>12.000</td>\n",
       "      <td>7.210</td>\n",
       "      <td>7.000</td>\n",
       "      <td>0</td>\n",
       "      <td>1</td>\n",
       "      <td>0</td>\n",
       "      <td>1</td>\n",
       "      <td>80000.000</td>\n",
       "      <td>80000.000</td>\n",
       "      <td>12000.000</td>\n",
       "      <td>5.200</td>\n",
       "      <td>1.200</td>\n",
       "      <td>30.120</td>\n",
       "      <td>0.390</td>\n",
       "      <td>5.000</td>\n",
       "      <td>31</td>\n",
       "      <td>18.200</td>\n",
       "      <td>0.100</td>\n",
       "      <td>0.005</td>\n",
       "      <td>0.001</td>\n",
       "      <td>20.200</td>\n",
       "      <td>0.150</td>\n",
       "      <td>37</td>\n",
       "      <td>3</td>\n",
       "    </tr>\n",
       "  </tbody>\n",
       "</table>\n",
       "</div>"
      ],
      "text/plain": [
       "                            sitios codigo       fecha    campaña  tem_agua  tem_aire    od    ph  olores  color  espumas  mat_susp  colif_fecales_ufc_100ml  escher_coli_ufc_100ml  enteroc_ufc_100ml  nitrato_mg_l  nh4_mg_l  p_total_l_mg_l  fosf_ortofos_mg_l  dbo_mg_l  dqo_mg_l  turbiedad_ntu  hidr_deriv_petr_ug_l  cr_total_mg_l  cd_total_mg_l  clorofila_a_ug_l  microcistina_ug_l  ica  calidad_de_agua\n",
       "38   Diagonal 66 (descarga cloaca)  BS095   23/2/2022     Verano    20.000    18.000 6.560 8.110       1      1        1         1               150000.000               2800.000          20000.000         2.000     0.049           1.500              1.300     8.400        29          4.100                 0.100          0.005          0.001            10.000              0.200   31                3\n",
       "80   Diagonal 66 (descarga cloaca)  BS095    4/5/2022      otoño     8.000    12.000 7.200 7.990       1      1        1         1               400000.000             150000.000          28000.000         8.100     8.500           1.200              0.850     7.100        66          3.300                 0.100          0.005          0.001            10.000              0.150   29                3\n",
       "122  Diagonal 66 (descarga cloaca)  BS095   23/8/2022   invierno    11.000    14.000 8.050 8.130       1      1        1         1               700000.000                440.000             30.000         2.100    19.000           1.400              1.400    21.000        30         11.000                 0.100          0.005          0.001           630.000              0.150   23                3\n",
       "164  Diagonal 66 (descarga cloaca)  BS095  31/10/2022  Primavera    10.000    12.000 7.210 7.000       0      1        0         1                80000.000              80000.000          12000.000         5.200     1.200          30.120              0.390     5.000        31         18.200                 0.100          0.005          0.001            20.200              0.150   37                3"
      ]
     },
     "execution_count": 36,
     "metadata": {},
     "output_type": "execute_result"
    }
   ],
   "source": [
    "#buscamos las 4 observaciones del mismo sitio\n",
    "copy_dataset[copy_dataset['sitios'] == 'Diagonal 66 (descarga cloaca)']"
   ]
  },
  {
   "cell_type": "markdown",
   "metadata": {},
   "source": [
    "Para las 4 campañas, el valor mas bajo de ICA para este lugar en concreto, es en invierno. Veremos que atributos son los mas impactantes para esta campaña a ver si podemos deducir algo.\n",
    "Se ve que es un lugar bastante contaminado ya que cuenta con la presencia de olor, color, espuma y materia suspendida en el agua, pero ¿Por que el ICA nos da mas bajo en invierno¿ ¿Sera que en esta estacion ocurre algo en la zona que provoca esta anomalia? de verificar esto, no olvidar que 21 de 37 muestras dieron un indice de calidad de agua menor en invierno que en las otras estaciones, un 56%, lo que probablemente signifique que pueda haber una relacion entre el ICA y las temperaturas mas bajas, para este dataset"
   ]
  },
  {
   "cell_type": "markdown",
   "metadata": {},
   "source": [
    "Verificaremos si hay una relacion entre las temperaturas y el ICA.\n",
    "Cálculo del p-valor para las correlaciones entre \"tem_agua\" y \"ICA\", y entre \"tem_aire\" y \"ICA\":"
   ]
  },
  {
   "cell_type": "code",
   "execution_count": 37,
   "metadata": {},
   "outputs": [
    {
     "name": "stdout",
     "output_type": "stream",
     "text": [
      "Correlación entre Temperatura del Agua y ICA: 0.2714883695794689\n",
      "P-valor entre Temperatura del Agua y ICA: 0.0006596309209046694\n",
      "Correlación entre Temperatura del Aire y ICA: 0.12390020666894705\n",
      "P-valor entre Temperatura del Aire y ICA: 0.1257844088951344\n"
     ]
    }
   ],
   "source": [
    "# Normalizamos mediante el metodo MIN-MAX\n",
    "copy_dataset['tem_agua_norm'] = (copy_dataset['tem_agua'] - copy_dataset['tem_agua'].min()) / (copy_dataset['tem_agua'].max() - copy_dataset['tem_agua'].min())\n",
    "copy_dataset['tem_aire_norm'] = (copy_dataset['tem_aire'] - copy_dataset['tem_aire'].min()) / (copy_dataset['tem_aire'].max() - copy_dataset['tem_aire'].min())\n",
    "copy_dataset['ica_norm'] = (copy_dataset['ica'] - copy_dataset['ica'].min()) / (copy_dataset['ica'].max() - copy_dataset['ica'].min())\n",
    "\n",
    "# Correlación y p-valor entre \"tem_agua\" y \"ICA\"\n",
    "corr_tem_agua_ica, p_val_agua_ica = pearsonr(copy_dataset['tem_agua_norm'], copy_dataset['ica_norm'])\n",
    "print(f\"Correlación entre Temperatura del Agua y ICA: {corr_tem_agua_ica}\")\n",
    "print(f\"P-valor entre Temperatura del Agua y ICA: {p_val_agua_ica}\")\n",
    "\n",
    "# Correlación y p-valor entre \"tem_aire\" y \"ICA\"\n",
    "corr_tem_aire_ica, p_val_aire_ica = pearsonr(copy_dataset['tem_aire_norm'], copy_dataset['ica_norm'])\n",
    "print(f\"Correlación entre Temperatura del Aire y ICA: {corr_tem_aire_ica}\")\n",
    "print(f\"P-valor entre Temperatura del Aire y ICA: {p_val_aire_ica}\")"
   ]
  },
  {
   "cell_type": "markdown",
   "metadata": {},
   "source": [
    "Correlación entre Temperatura del Agua y ICA: 0.27\n",
    "Indica una relación débil y positiva entre la temperatura del agua y el Índice de Calidad del Agua (ICA). Esto significa que, aunque existe una relación, no es muy fuerte\n",
    "\n",
    "P-valor entre Temperatura del Agua y ICA: 0.00066\n",
    "El p-valor es mucho menor que 0.05, indicando que la correlación observada es estadísticamente significativa. En otras palabras, podemos rechazar la hipótesis nula (que indicaría que no hay relación) y afirmar que hay una relación real y no aleatoria entre la temperatura del agua y el ICA.\n",
    "\n",
    "Damos fin a esta hipotesis, en el drive explayamos un poco mas acompañando con fuentes bibliograficas"
   ]
  },
  {
   "cell_type": "markdown",
   "metadata": {},
   "source": [
    "-----------------------------------------------------------------------------------------------------------------------------------------"
   ]
  },
  {
   "cell_type": "markdown",
   "metadata": {},
   "source": [
    "Hipótesis: la presencia de olor, color y espuma (las 3 dicotomicas) se relaciona con un menor índice de calidad del agua (ICA). Intentaremos deducir si existe una relacion entre estas variables, insistiendo sobre el indice de calidad de agua, a ver si le podemos sacar mejor data."
   ]
  },
  {
   "cell_type": "code",
   "execution_count": 52,
   "metadata": {},
   "outputs": [
    {
     "data": {
      "image/png": "[encoded data removed]",
      "text/plain": [
       "<Figure size 1200x600 with 1 Axes>"
      ]
     },
     "metadata": {},
     "output_type": "display_data"
    }
   ],
   "source": [
    "# Crear un gráfico de barras para comparar las medias de ICA según las condiciones visuales\n",
    "plt.figure(figsize=(12, 6))\n",
    "\n",
    "# Gráfico para comparar las medias de ICA según espumas, olores y color\n",
    "sns.barplot(x='variable', y='ica', hue='valor', \n",
    "            data=pd.melt(copy_dataset[['ica', 'espumas', 'olores', 'color']],\n",
    "             id_vars=['ica'], value_vars=['espumas', 'olores', 'color'], var_name='variable', value_name='valor'))\n",
    "\n",
    "plt.title(\"Comparación de medias de ICA según condiciones visuales (espumas, olores, color)\")\n",
    "plt.ylabel(\"Índice de Calidad del Agua (ICA)\")\n",
    "plt.xlabel(\"Condición Visual\")\n",
    "plt.legend()\n",
    "plt.show()"
   ]
  },
  {
   "cell_type": "markdown",
   "metadata": {},
   "source": [
    "EN 0 SERIA LA MEDIA DE \"ICA\" SIN LA PRESENCIA DE ESAS VARIABLES EN LA MUESTRA.\n",
    "\n",
    "EN 1 SERIA LA MEDIA DE \"ICA\" CON LA PRESENCIA DE ESAS VARIABLES EN LA MUESTRA\n",
    "\n",
    "VEMOS QUE LA MAS CAMBIANTE ES CON O SIN ESPUMA."
   ]
  },
  {
   "cell_type": "code",
   "execution_count": 54,
   "metadata": {},
   "outputs": [
    {
     "name": "stderr",
     "output_type": "stream",
     "text": [
      "C:\\Users\\Matias\\AppData\\Local\\Temp\\ipykernel_12584\\1027988986.py:2: MatplotlibDeprecationWarning: The 'labels' parameter of boxplot() has been renamed 'tick_labels' since Matplotlib 3.9; support for the old name will be dropped in 3.11.\n",
      "  plt.boxplot([\n"
     ]
    },
    {
     "data": {
      "image/png": "[encoded data removed]",
      "text/plain": [
       "<Figure size 1000x600 with 1 Axes>"
      ]
     },
     "metadata": {},
     "output_type": "display_data"
    }
   ],
   "source": [
    "plt.figure(figsize=(10,6))\n",
    "plt.boxplot([\n",
    "    copy_dataset[copy_dataset[\"olores\"] == 1.0][\"ica\"],\n",
    "    copy_dataset[copy_dataset[\"olores\"] == 0][\"ica\"],\n",
    "    copy_dataset[copy_dataset[\"espumas\"] == 1.0][\"ica\"],\n",
    "    copy_dataset[copy_dataset[\"espumas\"] == 0][\"ica\"],\n",
    "    copy_dataset[copy_dataset[\"color\"] == 1.0][\"ica\"],\n",
    "    copy_dataset[copy_dataset[\"color\"] == 0][\"ica\"]\n",
    "    ],labels=[\"Con olores\", \"Sin olores\",\"Con espumas\", \"Sin espumas\",\"Con color\", \"Sin color\"],notch=True)\n",
    "\n",
    "plt.xlabel(\"Categorías de Presencia de Olores, Espumas y Color\")\n",
    "plt.ylabel(\"Indice de Calidad del Agua \")\n",
    "plt.title(\"Distribución del Indice de Calidad del Agua segun la Presencia de Olores, Espumas y Color\")\n",
    "plt.grid(True)\n",
    "plt.show()"
   ]
  },
  {
   "cell_type": "markdown",
   "metadata": {},
   "source": [
    "Vemos que la mediana (Q2) para con o sin color es casi la misma, por lo que no hay gran variacion entre esos 2 factores, a simple vista pareciera no haber relacion"
   ]
  },
  {
   "cell_type": "markdown",
   "metadata": {},
   "source": [
    "Como trabajamos con variables dicotomicas (olor, color, espuma) para confirmar que existe una relacion entre estas variables y la calidad del agua (que es categorica y se basa en 'niveles' de ICA), debemos de hacer una prueba de Chi cuadrado de independencia\n"
   ]
  },
  {
   "cell_type": "code",
   "execution_count": 55,
   "metadata": {},
   "outputs": [
    {
     "name": "stdout",
     "output_type": "stream",
     "text": [
      "Estadístico chi-cuadrado: 7.672721417069243\n",
      "Valor p: 0.6607702418385424\n",
      "Grados de libertad: 10\n"
     ]
    }
   ],
   "source": [
    "from scipy.stats import chi2_contingency\n",
    "\n",
    "# Crear una tabla de contingencia\n",
    "contingency_table = pd.crosstab(index=[copy_dataset['olores'], copy_dataset['color'], copy_dataset['espumas']],\n",
    "                                columns=copy_dataset['calidad_de_agua'])\n",
    "\n",
    "# Realizar la prueba de chi-cuadrado\n",
    "chi2, p, dof, expected = chi2_contingency(contingency_table)\n",
    "\n",
    "# Imprimir resultados\n",
    "print(f\"Estadístico chi-cuadrado: {chi2}\")\n",
    "print(f\"Valor p: {p}\")\n",
    "print(f\"Grados de libertad: {dof}\")"
   ]
  },
  {
   "cell_type": "markdown",
   "metadata": {},
   "source": [
    "Valor p: 𝑝=0.66\n",
    "es mucho mayor que 0.05. Esto implica que no hay suficiente evidencia para rechazar la hipótesis nula de independencia. \n",
    "No se detecta una relación estadísticamente significativa entre las combinaciones de olor, color y espuma y los niveles de calidad\n",
    "\n",
    "intentamos hacer un anova pero los resultados fueron los mismos, se rechaza la hipotesis"
   ]
  },
  {
   "cell_type": "markdown",
   "metadata": {},
   "source": [
    "--------------------------------------------------------------------------------------------------------------------------------------------------------------"
   ]
  },
  {
   "cell_type": "markdown",
   "metadata": {},
   "source": [
    "Veremos que pasa en OXIGENO DISUELTO, ya que su valor maximo es bastante alto en comparacion al resto"
   ]
  },
  {
   "cell_type": "code",
   "execution_count": 38,
   "metadata": {},
   "outputs": [
    {
     "data": {
      "image/png": "[encoded data removed]",
      "text/plain": [
       "<Figure size 800x600 with 1 Axes>"
      ]
     },
     "metadata": {},
     "output_type": "display_data"
    }
   ],
   "source": [
    "plt.figure(figsize=(8, 6))\n",
    "\n",
    "# Creamos BOXPLOT\n",
    "plt.boxplot(copy_dataset['od'].dropna(), vert=True, patch_artist=True, boxprops=dict(facecolor=\"lightblue\"))\n",
    "\n",
    "plt.title('Diagrama de Caja para la columna OD')\n",
    "plt.xlabel('OD')\n",
    "plt.grid(True)\n",
    "\n",
    "plt.show()"
   ]
  },
  {
   "cell_type": "markdown",
   "metadata": {},
   "source": [
    "Despues de analizar este boxplot podemos encontrarnos con ciertos outliers, 2 por encima del limite superior y 4 por debajo del limite inferior. vemos que la mediana (Q2) es casi 7, que el Q1 y Q3 estan bastante cerca de de ese valor, lo que indicaria una distribucion bastante equilibrada entre los cuartiles. \n",
    "Sabemos que los valores optimos para \"OD\" oscilan entre 5 y 9. Veremos en que lugar se encuentra ese outlier en 17.5, ya que valores superiores a 10 mg/L son raros y, si aparecen, suelen deberse a procesos de fotosíntesis intensa en ciertas zonas, pero pueden estar acompañados de fluctuaciones."
   ]
  },
  {
   "cell_type": "code",
   "execution_count": 39,
   "metadata": {},
   "outputs": [
    {
     "data": {
      "text/html": [
       "<div>\n",
       "<style scoped>\n",
       "    .dataframe tbody tr th:only-of-type {\n",
       "        vertical-align: middle;\n",
       "    }\n",
       "\n",
       "    .dataframe tbody tr th {\n",
       "        vertical-align: top;\n",
       "    }\n",
       "\n",
       "    .dataframe thead th {\n",
       "        text-align: right;\n",
       "    }\n",
       "</style>\n",
       "<table border=\"1\" class=\"dataframe\">\n",
       "  <thead>\n",
       "    <tr style=\"text-align: right;\">\n",
       "      <th></th>\n",
       "      <th>sitios</th>\n",
       "      <th>codigo</th>\n",
       "      <th>fecha</th>\n",
       "      <th>campaña</th>\n",
       "      <th>tem_agua</th>\n",
       "      <th>tem_aire</th>\n",
       "      <th>od</th>\n",
       "      <th>ph</th>\n",
       "      <th>olores</th>\n",
       "      <th>color</th>\n",
       "      <th>espumas</th>\n",
       "      <th>mat_susp</th>\n",
       "      <th>colif_fecales_ufc_100ml</th>\n",
       "      <th>escher_coli_ufc_100ml</th>\n",
       "      <th>enteroc_ufc_100ml</th>\n",
       "      <th>nitrato_mg_l</th>\n",
       "      <th>nh4_mg_l</th>\n",
       "      <th>p_total_l_mg_l</th>\n",
       "      <th>fosf_ortofos_mg_l</th>\n",
       "      <th>dbo_mg_l</th>\n",
       "      <th>dqo_mg_l</th>\n",
       "      <th>turbiedad_ntu</th>\n",
       "      <th>hidr_deriv_petr_ug_l</th>\n",
       "      <th>cr_total_mg_l</th>\n",
       "      <th>cd_total_mg_l</th>\n",
       "      <th>clorofila_a_ug_l</th>\n",
       "      <th>microcistina_ug_l</th>\n",
       "      <th>ica</th>\n",
       "      <th>calidad_de_agua</th>\n",
       "      <th>tem_agua_norm</th>\n",
       "      <th>tem_aire_norm</th>\n",
       "      <th>ica_norm</th>\n",
       "    </tr>\n",
       "  </thead>\n",
       "  <tbody>\n",
       "    <tr>\n",
       "      <th>73</th>\n",
       "      <td>Costanera Hudson Calle 63</td>\n",
       "      <td>BZ080</td>\n",
       "      <td>4/5/2022</td>\n",
       "      <td>otoño</td>\n",
       "      <td>17.000</td>\n",
       "      <td>17.000</td>\n",
       "      <td>17.610</td>\n",
       "      <td>9.980</td>\n",
       "      <td>0</td>\n",
       "      <td>0</td>\n",
       "      <td>0</td>\n",
       "      <td>0</td>\n",
       "      <td>20000.000</td>\n",
       "      <td>1000.000</td>\n",
       "      <td>800.000</td>\n",
       "      <td>6.200</td>\n",
       "      <td>0.050</td>\n",
       "      <td>0.520</td>\n",
       "      <td>0.430</td>\n",
       "      <td>18.000</td>\n",
       "      <td>59</td>\n",
       "      <td>60.000</td>\n",
       "      <td>0.100</td>\n",
       "      <td>0.007</td>\n",
       "      <td>0.001</td>\n",
       "      <td>10.000</td>\n",
       "      <td>0.150</td>\n",
       "      <td>40</td>\n",
       "      <td>3</td>\n",
       "      <td>0.514</td>\n",
       "      <td>0.565</td>\n",
       "      <td>0.321</td>\n",
       "    </tr>\n",
       "  </tbody>\n",
       "</table>\n",
       "</div>"
      ],
      "text/plain": [
       "                       sitios codigo     fecha campaña  tem_agua  tem_aire     od    ph  olores  color  espumas  mat_susp  colif_fecales_ufc_100ml  escher_coli_ufc_100ml  enteroc_ufc_100ml  nitrato_mg_l  nh4_mg_l  p_total_l_mg_l  fosf_ortofos_mg_l  dbo_mg_l  dqo_mg_l  turbiedad_ntu  hidr_deriv_petr_ug_l  cr_total_mg_l  cd_total_mg_l  clorofila_a_ug_l  microcistina_ug_l  ica  calidad_de_agua  tem_agua_norm  tem_aire_norm  ica_norm\n",
       "73  Costanera Hudson Calle 63  BZ080  4/5/2022   otoño    17.000    17.000 17.610 9.980       0      0        0         0                20000.000               1000.000            800.000         6.200     0.050           0.520              0.430    18.000        59         60.000                 0.100          0.007          0.001            10.000              0.150   40                3          0.514          0.565     0.321"
      ]
     },
     "execution_count": 39,
     "metadata": {},
     "output_type": "execute_result"
    }
   ],
   "source": [
    "copy_dataset[copy_dataset[\"od\"] == 17.610]"
   ]
  },
  {
   "cell_type": "markdown",
   "metadata": {},
   "source": [
    "El sitio se llama \"costanera Hudson Calle 63\", que ademas de niveles altisimos de Oxigeno Disuelto, presenta una alta contaminacion fecal, una moderada contaminacion por presencia de nitratos en el agua (influencia de actividades humanas, como la agricultura o las aguas residuales) y una turbiedad sumamente elevada, que podria estar influenciada directamente por el \"OD\"\n",
    "\n",
    "Investigando un poco mas en los medios, vemos que Hudson esta marcado por una gran presencia de humedales los cuales ayudan a atrapar el carbono del aire, lo cual es muy importante para mitigar el cambio climatico y albergar biodiversidad. En consecuencia, el nivel de OD de 17 mg/L podría estar relacionado con un efecto de fotosíntesis intensa. Sin embargo, es ideal medir en diferentes momentos del día, ya que el oxígeno disuelto puede variar entre el día y la noche debido a la fotosíntesis y la respiración de los organismos acuáticos.\n",
    "\n",
    "En conclusion, el outlier examinado podria no ser un error de medicion, en este caso, y si un claro ejemplo del impacto de los humedales\n",
    "\n",
    "Los humedales pueden crear condiciones excepcionales para el aumento de oxígeno disuelto, esta justificación añade una capa importante de contexto ecológico a los datos, podriamos seguir explayando un poco mas a partir de esto\n",
    "\n",
    "¿Hay una relacion directa entre los humedales y el oxigeno disuelto en las mediciones? ¿A que otros indicadores puede afectar la presencia de estos?\n",
    "\n",
    "A este hecho sumarle los desastres causados por los megaemprendimientos y los incendios forestales en los humedales, repercurtiendo en otros indicadores como la turbiedad, el ph, la presencia de nitrato, etc.\n"
   ]
  },
  {
   "cell_type": "markdown",
   "metadata": {},
   "source": [
    "filtraremos las 5 muestras con mayor \"OXIGENO DISUELTO\""
   ]
  },
  {
   "cell_type": "code",
   "execution_count": 40,
   "metadata": {},
   "outputs": [
    {
     "name": "stdout",
     "output_type": "stream",
     "text": [
      "                        sitios codigo      fecha   campaña  tem_agua  tem_aire     od     ph  olores  color  espumas  mat_susp  colif_fecales_ufc_100ml  escher_coli_ufc_100ml  enteroc_ufc_100ml  nitrato_mg_l  nh4_mg_l  p_total_l_mg_l  fosf_ortofos_mg_l  dbo_mg_l  dqo_mg_l  turbiedad_ntu  hidr_deriv_petr_ug_l  cr_total_mg_l  cd_total_mg_l  clorofila_a_ug_l  microcistina_ug_l  ica  calidad_de_agua  tem_agua_norm  tem_aire_norm  ica_norm\n",
      "73   Costanera Hudson Calle 63  BZ080   4/5/2022     otoño    17.000    17.000 17.610  9.980       0      0        0         0                20000.000               1000.000            800.000         6.200     0.050           0.520              0.430    18.000        59         60.000                 0.100          0.007          0.001            10.000              0.150   40                3          0.514          0.565     0.321\n",
      "75           Camping Eva Perón  EN081   4/5/2022     otoño    13.600     8.000 12.840 10.020       0      0        0         0                 1600.000                 50.000             10.000         4.700     0.050           0.400              0.370     5.400        74         90.000                 0.100          0.007          0.001            10.000              0.150   59                2          0.355          0.174     0.679\n",
      "28         Pejerrey Club 400 m  QU063  23/2/2022    Verano    23.000    22.000 12.150  8.500       0      0        0         0                 1000.000                200.000             10.000         4.300     0.049           0.370              0.310     4.400        49         36.000                 0.100          0.005          0.001           140.800              0.200   55                2          0.794          0.783     0.604\n",
      "72    Puerto Trinidad calle 47  BZ077   4/5/2022     otoño    16.700    15.000 12.000  8.810       0      0        0         0               280000.000               3600.000           1580.000        10.000     0.180           0.700              0.670    12.000       110         45.000                 0.100          0.020          0.001            10.000              0.150   36                3          0.500          0.478     0.245\n",
      "115  Costanera Hudson Calle 63  BZ080  23/8/2022  invierno    15.100    15.200 11.820  8.370       0      0        0         0                58000.000                500.000             80.000        12.200     1.500           0.360              0.360     9.000        30         14.000                 0.100          0.005          0.001          2500.000              0.150   38                3          0.425          0.487     0.283\n"
     ]
    }
   ],
   "source": [
    "# Seleccionar las 5 filas con los valores más altos en la columna \"OD\"\n",
    "top_5_od = copy_dataset.nlargest(5, 'od')\n",
    "\n",
    "# Mostrar el resultado\n",
    "print(top_5_od)"
   ]
  },
  {
   "cell_type": "markdown",
   "metadata": {},
   "source": [
    "- Vemos que el ph en las 5 muestras oscila entre 8.3 y 10 lo que indicaria un leve a grave desequilibrio en el agua, producto de algun factor externo.\n",
    "- Encontramos otra coincidencia. \"Puerto Trinidad calle 47\" y \"Costanera Hudson calle 63\" ambos estan en la localidad de Berazategui, y ambos lugares estan siendo victima de daños en los humedales desde hace unos años. La Concentración de nitratos en miligramos por litro (mg/L) en ambos lugares es bastante alta. El DBO y DQO son altisimos tambien.\n",
    "- En \"Puerto Trinidad calle 47\" hay una marcada contaminacion fecal y alta presencia de formas de fósforo en el agua."
   ]
  },
  {
   "cell_type": "markdown",
   "metadata": {},
   "source": [
    "Vemos que el humano con sus inventos esta impactando severamente en la naturaleza de los humedales y su poder para manter el equilibrio y calidad del agua. Sumado a los incendios forestales desatados intencionalmente"
   ]
  },
  {
   "cell_type": "markdown",
   "metadata": {},
   "source": [
    "Usaremos gráficos de dispersión (scatter plot) para analizar la relación entre el OD y las variables que sospechamos que pueden estar relacionadas, como PH, DBO, DQO o turbiedad."
   ]
  },
  {
   "cell_type": "markdown",
   "metadata": {},
   "source": [
    "metodo de normalizacion MIN-MAX"
   ]
  },
  {
   "cell_type": "code",
   "execution_count": 41,
   "metadata": {},
   "outputs": [],
   "source": [
    "# normalizar las columnas 'OD','TURBIEDAD', 'ph', 'dbo' y 'dqo'. método de normalización min-max\n",
    "copy_dataset['od_normalizado'] = (copy_dataset['od'] - copy_dataset['od'].min()) / (copy_dataset['od'].max() - copy_dataset['od'].min())\n",
    "copy_dataset['turbiedad_normalizado'] = (copy_dataset['turbiedad_ntu'] - copy_dataset['turbiedad_ntu'].min()) / (copy_dataset['turbiedad_ntu'].max() - copy_dataset['turbiedad_ntu'].min())\n",
    "copy_dataset['ph_normalizado'] = (copy_dataset['ph'] - copy_dataset['ph'].min()) / (copy_dataset['ph'].max() - copy_dataset['ph'].min())\n",
    "copy_dataset['dbo_normalizado'] = (copy_dataset['dbo_mg_l'] - copy_dataset['dbo_mg_l'].min()) / (copy_dataset['dbo_mg_l'].max() - copy_dataset['dbo_mg_l'].min())\n",
    "copy_dataset['dqo_normalizado'] = (copy_dataset['dqo_mg_l'] - copy_dataset['dqo_mg_l'].min()) / (copy_dataset['dqo_mg_l'].max() - copy_dataset['dqo_mg_l'].min())\n"
   ]
  },
  {
   "cell_type": "markdown",
   "metadata": {},
   "source": [
    "Hacemos grafico de dispersion para \"od y turbiedad\""
   ]
  },
  {
   "cell_type": "code",
   "execution_count": 42,
   "metadata": {},
   "outputs": [
    {
     "data": {
      "image/png": "[encoded data removed]",
      "text/plain": [
       "<Figure size 1000x600 with 1 Axes>"
      ]
     },
     "metadata": {},
     "output_type": "display_data"
    }
   ],
   "source": [
    "plt.figure(figsize=(10, 6))\n",
    "plt.scatter(copy_dataset['turbiedad_normalizado'], copy_dataset['od_normalizado'], color='blue')\n",
    "plt.xlabel('Turbiedad')\n",
    "plt.ylabel('Oxígeno Disuelto (OD)')\n",
    "plt.title('Relación entre OD y TURBIEDAD')\n",
    "plt.grid(True)\n",
    "plt.show()"
   ]
  },
  {
   "cell_type": "code",
   "execution_count": 43,
   "metadata": {},
   "outputs": [
    {
     "name": "stdout",
     "output_type": "stream",
     "text": [
      "Coeficiente de Correlación de Pearson: 0.18515657596163507\n"
     ]
    }
   ],
   "source": [
    "# Calcular la correlación de Pearson entre las dos columnas\n",
    "correlacion = copy_dataset['turbiedad_normalizado'].corr(copy_dataset['od_normalizado'])\n",
    "print(f\"Coeficiente de Correlación de Pearson: {correlacion}\")"
   ]
  },
  {
   "cell_type": "markdown",
   "metadata": {},
   "source": [
    "OBSERVANDO EL GRAFICO Y USANDO EL COEFICIENTE DE PEARSON: Correlación muy débil o inexistente. Casi no hay relación lineal entre las variables \"OD\" y \"turbiedad\""
   ]
  },
  {
   "cell_type": "markdown",
   "metadata": {},
   "source": [
    "hacemos grafico de dispersion para \"od y ph\""
   ]
  },
  {
   "cell_type": "code",
   "execution_count": 44,
   "metadata": {},
   "outputs": [
    {
     "data": {
      "image/png": "[encoded data removed]",
      "text/plain": [
       "<Figure size 1000x600 with 1 Axes>"
      ]
     },
     "metadata": {},
     "output_type": "display_data"
    }
   ],
   "source": [
    "plt.figure(figsize=(10, 6))\n",
    "plt.scatter(copy_dataset['ph_normalizado'], copy_dataset['od_normalizado'], color='red')\n",
    "plt.xlabel('ph')\n",
    "plt.ylabel('Oxígeno Disuelto (OD)')\n",
    "plt.title('Relación entre OD y PH')\n",
    "plt.grid(True)\n",
    "plt.show()"
   ]
  },
  {
   "cell_type": "code",
   "execution_count": 45,
   "metadata": {},
   "outputs": [
    {
     "name": "stdout",
     "output_type": "stream",
     "text": [
      "Coeficiente de Correlación de Pearson: 0.5333541251594252\n"
     ]
    }
   ],
   "source": [
    "# Calcular la correlación de Pearson entre las dos columnas\n",
    "correlacion = copy_dataset['ph_normalizado'].corr(copy_dataset['od_normalizado'])\n",
    "print(f\"Coeficiente de Correlación de Pearson: {correlacion}\")"
   ]
  },
  {
   "cell_type": "markdown",
   "metadata": {},
   "source": [
    "OBSERVANDO EL GRAFICO Y USANDO EL COEFICIENTE DE PEARSON: Correlación moderada. Existe una relación lineal clara, aunque no tan intensa entre las variables \"OD\" y \"PH\""
   ]
  },
  {
   "cell_type": "markdown",
   "metadata": {},
   "source": [
    "Hacemos grafico de dispersion entre \"od y DBO\""
   ]
  },
  {
   "cell_type": "code",
   "execution_count": 46,
   "metadata": {},
   "outputs": [
    {
     "data": {
      "image/png": "[encoded data removed]",
      "text/plain": [
       "<Figure size 1000x600 with 1 Axes>"
      ]
     },
     "metadata": {},
     "output_type": "display_data"
    }
   ],
   "source": [
    "plt.figure(figsize=(10, 6))\n",
    "plt.scatter(copy_dataset['dbo_normalizado'], copy_dataset['od_normalizado'], color='black')\n",
    "plt.xlabel('DBO')\n",
    "plt.ylabel('Oxígeno Disuelto (OD)')\n",
    "plt.title('Relación entre OD y DBO')\n",
    "plt.grid(True)\n",
    "plt.show()"
   ]
  },
  {
   "cell_type": "code",
   "execution_count": 47,
   "metadata": {},
   "outputs": [
    {
     "name": "stdout",
     "output_type": "stream",
     "text": [
      "Coeficiente de Correlación de Pearson: 0.0488570086506096\n"
     ]
    }
   ],
   "source": [
    "# Calcular la correlación de Pearson entre las dos columnas\n",
    "correlacion = copy_dataset['dbo_normalizado'].corr(copy_dataset['od_normalizado'])\n",
    "print(f\"Coeficiente de Correlación de Pearson: {correlacion}\")"
   ]
  },
  {
   "cell_type": "markdown",
   "metadata": {},
   "source": [
    "OBSERVANDO EL GRAFICO Y USANDO EL COEFICIENTE DE PEARSON: Correlación muy débil o inexistente. Casi no hay relación lineal entre las variables."
   ]
  },
  {
   "cell_type": "markdown",
   "metadata": {},
   "source": [
    "Hacemos grafico de dispersion entre \"od y dqo\""
   ]
  },
  {
   "cell_type": "code",
   "execution_count": 48,
   "metadata": {},
   "outputs": [
    {
     "data": {
      "image/png": "[encoded data removed]",
      "text/plain": [
       "<Figure size 1000x600 with 1 Axes>"
      ]
     },
     "metadata": {},
     "output_type": "display_data"
    }
   ],
   "source": [
    "plt.figure(figsize=(10, 6))\n",
    "plt.scatter(copy_dataset['dqo_normalizado'], copy_dataset['od_normalizado'], color='green')\n",
    "plt.xlabel('DQO')\n",
    "plt.ylabel('Oxígeno Disuelto (OD)')\n",
    "plt.title('Relación entre OD y DQO')\n",
    "plt.grid(True)\n",
    "plt.show()"
   ]
  },
  {
   "cell_type": "code",
   "execution_count": 49,
   "metadata": {},
   "outputs": [
    {
     "name": "stdout",
     "output_type": "stream",
     "text": [
      "Coeficiente de Correlación de Pearson: -0.018843923426437828\n"
     ]
    }
   ],
   "source": [
    "# Calcular la correlación de Pearson entre las dos columnas\n",
    "correlacion = copy_dataset['dqo_normalizado'].corr(copy_dataset['od_normalizado'])\n",
    "print(f\"Coeficiente de Correlación de Pearson: {correlacion}\")"
   ]
  },
  {
   "cell_type": "markdown",
   "metadata": {},
   "source": [
    "OBSERVANDO EL GRAFICO Y USANDO EL COEFICIENTE DE PEARSON: Correlación muy débil o inexistente. Casi no hay relación lineal entre las variables."
   ]
  },
  {
   "cell_type": "markdown",
   "metadata": {},
   "source": [
    "EN CONCLUSION, SOLAMENTE EXISTE UNA RELACION LINEAL CLARA ENTRE EL \"OXIGENO DISUELTO Y EL PH\", AUNQUE NO ES FUERTE Y PRECISA"
   ]
  },
  {
   "cell_type": "markdown",
   "metadata": {},
   "source": [
    "sospechamos que la relación puede no ser lineal, intentemos ajustar un polinomio de segundo"
   ]
  },
  {
   "cell_type": "markdown",
   "metadata": {},
   "source": []
  },
  {
   "cell_type": "code",
   "execution_count": 50,
   "metadata": {},
   "outputs": [
    {
     "data": {
      "image/png": "[encoded data removed]",
      "text/plain": [
       "<Figure size 640x480 with 1 Axes>"
      ]
     },
     "metadata": {},
     "output_type": "display_data"
    }
   ],
   "source": [
    "# Ajuste polinómico de segundo grado\n",
    "coef = np.polyfit(copy_dataset['ph'], copy_dataset['od'], 2)  # 2 representa el grado del polinomio\n",
    "poli1 = np.poly1d(coef)\n",
    "\n",
    "# Generar valores ajustados\n",
    "x_vals = np.linspace(copy_dataset['ph'].min(), copy_dataset['ph'].max(), 100)\n",
    "y_vals = poli1(x_vals)\n",
    "\n",
    "# Graficar\n",
    "plt.scatter(copy_dataset['ph'], copy_dataset['od'], label='Datos', color='blue')\n",
    "plt.plot(x_vals, y_vals, label='Ajuste Polinómico (2º grado)', color='red')\n",
    "plt.xlabel('pH')\n",
    "plt.ylabel('Oxígeno Disuelto (OD)')\n",
    "plt.title('Ajuste Polinómico de Segundo Grado entre pH y OD')\n",
    "plt.grid(True)\n",
    "plt.legend()\n",
    "plt.show()"
   ]
  },
  {
   "cell_type": "code",
   "execution_count": 51,
   "metadata": {},
   "outputs": [
    {
     "name": "stdout",
     "output_type": "stream",
     "text": [
      "MSE Ajuste Polinómico (2º grado): 4.751363127627031\n",
      "MSE Ajuste Polinómico (3º grado): 4.7433748693293705\n"
     ]
    }
   ],
   "source": [
    "# Ajuste polinómico de segundo grado\n",
    "coef2 = np.polyfit(copy_dataset['ph'], copy_dataset['od'], 2)\n",
    "poli2 = np.poly1d(coef2)\n",
    "y_pred2 = poli2(copy_dataset['ph'])\n",
    "\n",
    "# Ajuste polinómico de tercer grado\n",
    "coef3 = np.polyfit(copy_dataset['ph'], copy_dataset['od'], 3)\n",
    "poli3 = np.poly1d(coef3)\n",
    "y_pred3 = poli3(copy_dataset['ph'])\n",
    "\n",
    "# Calcular el MSE para ambos ajustes\n",
    "mse_2nd_degree = mean_squared_error(copy_dataset['od'], y_pred2)\n",
    "mse_3rd_degree = mean_squared_error(copy_dataset['od'], y_pred3)\n",
    "\n",
    "print(f\"MSE Ajuste Polinómico (2º grado): {mse_2nd_degree}\")\n",
    "print(f\"MSE Ajuste Polinómico (3º grado): {mse_3rd_degree}\")"
   ]
  },
  {
   "cell_type": "markdown",
   "metadata": {},
   "source": [
    "Dado que la diferencia es pequeña, se podría optar por el modelo de segundo grado, que es más simple y evita posibles problemas de sobreajuste (overfitting)."
   ]
  },
  {
   "cell_type": "markdown",
   "metadata": {},
   "source": [
    "---------------------------------------------------------------------------------------------------------------------------------------------------------------"
   ]
  },
  {
   "cell_type": "markdown",
   "metadata": {},
   "source": [
    "Vimos que el DBO_MG_L era la demanda biológica de oxígeno en miligramos por litro (mg/L), que mide la cantidad de oxígeno requerido por microorganismos para descomponer materia orgánica, y que en valores bastante altos, el agua podria estar recibiendo grandes cantidades de materia orgánica, posiblemente debido a descargas de aguas residuales, desechos industriales o actividad agrícola.\n",
    "\n",
    "veremos con que variable podria estar potencialmente relacionada"
   ]
  },
  {
   "cell_type": "markdown",
   "metadata": {},
   "source": [
    "antes que nada borrar viejas columnas creadas para normalizar"
   ]
  },
  {
   "cell_type": "code",
   "execution_count": 57,
   "metadata": {},
   "outputs": [],
   "source": [
    "copy_dataset = copy_dataset.drop(['dbo_normalizado', 'ph_normalizado', 'od_normalizado','dqo_normalizado','tem_agua_norm','tem_aire_norm','turbiedad_normalizado','ica_norm'], axis=1)"
   ]
  },
  {
   "cell_type": "code",
   "execution_count": 58,
   "metadata": {},
   "outputs": [
    {
     "data": {
      "image/png": "[encoded data removed]",
      "text/plain": [
       "<Figure size 1000x600 with 1 Axes>"
      ]
     },
     "metadata": {},
     "output_type": "display_data"
    }
   ],
   "source": [
    "dbo_correlation = copy_dataset.corr(numeric_only=True)[\"dbo_mg_l\"].drop(\"dbo_mg_l\")\n",
    "sorted_correlations = dbo_correlation.sort_values(ascending=False)\n",
    "\n",
    "plt.figure(figsize=(10, 6))\n",
    "plt.grid(True)\n",
    "sns.barplot(x=sorted_correlations.values, y=sorted_correlations.index)\n",
    "plt.title('Correlaciones con dbo')\n",
    "plt.xlabel('Correlación')\n",
    "plt.ylabel('Variable')\n",
    "plt.xlim([-1, 1])\n",
    "plt.show()"
   ]
  },
  {
   "cell_type": "markdown",
   "metadata": {},
   "source": [
    "Vemos que se tiene una correlacion bastante alta con fosfo_ortofos, entonces vamos a ver que sucede ahi"
   ]
  },
  {
   "cell_type": "markdown",
   "metadata": {},
   "source": [
    "Posible Hipotesis:\n",
    "\"A mayor concentración de fósforo ortofosfato (fosf_ortofos_mg_l), mayor será la demanda biológica de oxígeno (DBO, mg/L) en el agua.\"\n"
   ]
  },
  {
   "cell_type": "markdown",
   "metadata": {},
   "source": [
    "Para empezar tenemos dos variables continuas entonces voy a verificar si ambas variables son normales y homocedasticas para realizar un test-t"
   ]
  },
  {
   "cell_type": "code",
   "execution_count": 60,
   "metadata": {},
   "outputs": [
    {
     "name": "stdout",
     "output_type": "stream",
     "text": [
      "Test de Shapiro-Wilk para la variable dbo: Estadístico=0.655, p-valor=0.000\n",
      "Test de Shapiro-Wilk para la variable fosf: Estadístico=0.725, p-valor=0.000\n"
     ]
    }
   ],
   "source": [
    "from scipy.stats import shapiro\n",
    "\n",
    "dbo_dataset = copy_dataset[\"dbo_mg_l\"]\n",
    "fosf_dataset = copy_dataset[\"fosf_ortofos_mg_l\"]\n",
    "\n",
    "stat,p = shapiro(dbo_dataset)\n",
    "print(f\"Test de Shapiro-Wilk para la variable dbo: Estadístico={stat:.3f}, p-valor={p:.3f}\")\n",
    "\n",
    "stat,p = shapiro(fosf_dataset)\n",
    "print(f\"Test de Shapiro-Wilk para la variable fosf: Estadístico={stat:.3f}, p-valor={p:.3f}\")"
   ]
  },
  {
   "cell_type": "markdown",
   "metadata": {},
   "source": [
    "El test de Shapiro-Wilk nos dice que ninguna de las dos variables sigue una distribucion normal\n",
    "\n",
    "Por lo tantos haremos pruebas no parametricas,pero para ello veremos si tienen homocedasticidad primero\n"
   ]
  },
  {
   "cell_type": "code",
   "execution_count": 61,
   "metadata": {},
   "outputs": [
    {
     "name": "stdout",
     "output_type": "stream",
     "text": [
      "Test de Levene para la Homocedasticidad: Estadístico=0.045, p-valor=0.832\n"
     ]
    }
   ],
   "source": [
    "from scipy.stats import levene\n",
    "\n",
    "stat, p = levene(dbo_correlation, fosf_dataset)\n",
    "print(f\"Test de Levene para la Homocedasticidad: Estadístico={stat:.3f}, p-valor={p:.3f}\")\n"
   ]
  },
  {
   "cell_type": "markdown",
   "metadata": {},
   "source": [
    "Vemos que son homocedasticas, por lo tanto ya probamos que las variables no son normales y vimos que su distribucion es homocedasticas entonces podemos utilizar un test de Spearman"
   ]
  },
  {
   "cell_type": "code",
   "execution_count": 62,
   "metadata": {},
   "outputs": [
    {
     "name": "stdout",
     "output_type": "stream",
     "text": [
      "Coeficiente de correlación de Spearman: 0.4130\n",
      "P-valor: 0.0000\n",
      "La correlación es significativa.\n"
     ]
    }
   ],
   "source": [
    "from scipy.stats import spearmanr\n",
    "\n",
    "# Calcular la correlación de Spearman\n",
    "correlacion, p_valor = spearmanr(copy_dataset[\"dbo_mg_l\"], copy_dataset[\"fosf_ortofos_mg_l\"])\n",
    "\n",
    "# Imprimir los resultados\n",
    "print(f\"Coeficiente de correlación de Spearman: {correlacion:.4f}\")\n",
    "print(f\"P-valor: {p_valor:.4f}\")\n",
    "\n",
    "# Interpretación del p-valor\n",
    "if p_valor < 0.05:\n",
    "    print(\"La correlación es significativa.\")\n",
    "else:\n",
    "    print(\"No hay evidencia suficiente para afirmar que la correlación es significativa.\")"
   ]
  },
  {
   "cell_type": "markdown",
   "metadata": {},
   "source": [
    "El análisis de correlación de Spearman realizado entre las variables dbo_mg_l y fosf_ortofos_mg_l arrojó un coeficiente de 0.4130 indicando una correlación positiva moderada entre ambas. Además, el p-valor obtenido fue 0.0000, lo que confirma que esta correlación es estadísticamente significativa (p < 0.05). Por lo tanto, se puede concluir que existe una relación significativa entre las concentraciones de DBO y fosfatos ortofosfatos en el dataset.#Elegir entre esta conclusion o la de abajo\n",
    "\n",
    "Como vemos nuestro p-valor es menos que nuestro nivel de significancia(0.5) entonces rechazamos nuestra hipotesis nula y vemos que la concentracion de fosforo ortofosfato no implica una mayor demanda de biologica de oxigeno"
   ]
  },
  {
   "cell_type": "markdown",
   "metadata": {},
   "source": [
    "-----------------------------------------------------------------------------------------------------------------------------------------------------------"
   ]
  }
 ],
 "metadata": {
  "kernelspec": {
   "display_name": "practicoespecialvenv",
   "language": "python",
   "name": "python3"
  },
  "language_info": {
   "codemirror_mode": {
    "name": "ipython",
    "version": 3
   },
   "file_extension": ".py",
   "mimetype": "text/x-python",
   "name": "python",
   "nbconvert_exporter": "python",
   "pygments_lexer": "ipython3",
   "version": "3.12.2"
  }
 },
 "nbformat": 4,
 "nbformat_minor": 2
}
